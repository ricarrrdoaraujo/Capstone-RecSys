{
 "cells": [
  {
   "cell_type": "markdown",
   "metadata": {},
   "source": [
    "# **Nanodegree Engenheiro de Machine Learning** \n",
    "-------------------------------------------\n",
    "## **Projeto Final | Modelo de um sistema de recomendação de filmes**\n",
    "-------------------------------------------\n",
    "Ricardo Luiz Araujo Junior <br>\n"
   ]
  },
  {
   "cell_type": "markdown",
   "metadata": {},
   "source": [
    "## **Observando os dados**"
   ]
  },
  {
   "cell_type": "code",
   "execution_count": 1,
   "metadata": {
    "collapsed": true
   },
   "outputs": [],
   "source": [
    "# importando as bibliotecas necessárias\n",
    "import pandas as pd\n",
    "import numpy as np\n",
    "import seaborn as sns\n",
    "import matplotlib.pyplot as plt\n",
    "from surprise import accuracy, Reader, Dataset, SVD, model_selection, KNNBaseline, dataset\n",
    "from surprise.model_selection import train_test_split, GridSearchCV\n",
    "from collections import defaultdict\n",
    "from wordcloud import WordCloud, STOPWORDS\n",
    "from IPython.display import Latex\n",
    "import time\n",
    "from IPython.display import Latex, Image, display\n",
    "from IPython.core.display import HTML\n",
    "import requests as req\n",
    "import json\n",
    "\n",
    "%matplotlib inline"
   ]
  },
  {
   "cell_type": "markdown",
   "metadata": {},
   "source": [
    "#### **Carregando o dataset de classificações de usuários**"
   ]
  },
  {
   "cell_type": "markdown",
   "metadata": {},
   "source": [
    "Vamos começar observando a estrutura do dataset ratings:<br>\n",
    "**userId**: ID do usuário.<br>\n",
    "**movieId**: ID do filme classificado pelo usuário.<br>\n",
    "**rating**: Nota que o usuário deu para o filme. Em escala de 1 a 5, com incrementos de\n",
    "meio (0.5).<br>\n",
    "**timestamp**: Horário da classificação em formato timestamp."
   ]
  },
  {
   "cell_type": "code",
   "execution_count": 2,
   "metadata": {},
   "outputs": [
    {
     "data": {
      "text/html": [
       "<div>\n",
       "<style>\n",
       "    .dataframe thead tr:only-child th {\n",
       "        text-align: right;\n",
       "    }\n",
       "\n",
       "    .dataframe thead th {\n",
       "        text-align: left;\n",
       "    }\n",
       "\n",
       "    .dataframe tbody tr th {\n",
       "        vertical-align: top;\n",
       "    }\n",
       "</style>\n",
       "<table border=\"1\" class=\"dataframe\">\n",
       "  <thead>\n",
       "    <tr style=\"text-align: right;\">\n",
       "      <th></th>\n",
       "      <th>userId</th>\n",
       "      <th>movieId</th>\n",
       "      <th>rating</th>\n",
       "      <th>timestamp</th>\n",
       "    </tr>\n",
       "  </thead>\n",
       "  <tbody>\n",
       "    <tr>\n",
       "      <th>0</th>\n",
       "      <td>1</td>\n",
       "      <td>31</td>\n",
       "      <td>2.5</td>\n",
       "      <td>1260759144</td>\n",
       "    </tr>\n",
       "    <tr>\n",
       "      <th>1</th>\n",
       "      <td>1</td>\n",
       "      <td>1029</td>\n",
       "      <td>3.0</td>\n",
       "      <td>1260759179</td>\n",
       "    </tr>\n",
       "    <tr>\n",
       "      <th>2</th>\n",
       "      <td>1</td>\n",
       "      <td>1061</td>\n",
       "      <td>3.0</td>\n",
       "      <td>1260759182</td>\n",
       "    </tr>\n",
       "    <tr>\n",
       "      <th>3</th>\n",
       "      <td>1</td>\n",
       "      <td>1129</td>\n",
       "      <td>2.0</td>\n",
       "      <td>1260759185</td>\n",
       "    </tr>\n",
       "    <tr>\n",
       "      <th>4</th>\n",
       "      <td>1</td>\n",
       "      <td>1172</td>\n",
       "      <td>4.0</td>\n",
       "      <td>1260759205</td>\n",
       "    </tr>\n",
       "  </tbody>\n",
       "</table>\n",
       "</div>"
      ],
      "text/plain": [
       "   userId  movieId  rating   timestamp\n",
       "0       1       31     2.5  1260759144\n",
       "1       1     1029     3.0  1260759179\n",
       "2       1     1061     3.0  1260759182\n",
       "3       1     1129     2.0  1260759185\n",
       "4       1     1172     4.0  1260759205"
      ]
     },
     "execution_count": 2,
     "metadata": {},
     "output_type": "execute_result"
    }
   ],
   "source": [
    "df_ratings = pd.read_csv('ratings.csv')\n",
    "df_ratings.head(5)"
   ]
  },
  {
   "cell_type": "markdown",
   "metadata": {},
   "source": [
    "Convertendo a coluna timestamp para que possamos visualizar o ano"
   ]
  },
  {
   "cell_type": "code",
   "execution_count": 3,
   "metadata": {},
   "outputs": [
    {
     "data": {
      "text/html": [
       "<div>\n",
       "<style>\n",
       "    .dataframe thead tr:only-child th {\n",
       "        text-align: right;\n",
       "    }\n",
       "\n",
       "    .dataframe thead th {\n",
       "        text-align: left;\n",
       "    }\n",
       "\n",
       "    .dataframe tbody tr th {\n",
       "        vertical-align: top;\n",
       "    }\n",
       "</style>\n",
       "<table border=\"1\" class=\"dataframe\">\n",
       "  <thead>\n",
       "    <tr style=\"text-align: right;\">\n",
       "      <th></th>\n",
       "      <th>userId</th>\n",
       "      <th>movieId</th>\n",
       "      <th>rating</th>\n",
       "      <th>timestamp</th>\n",
       "    </tr>\n",
       "  </thead>\n",
       "  <tbody>\n",
       "    <tr>\n",
       "      <th>0</th>\n",
       "      <td>1</td>\n",
       "      <td>31</td>\n",
       "      <td>2.5</td>\n",
       "      <td>2009</td>\n",
       "    </tr>\n",
       "    <tr>\n",
       "      <th>1</th>\n",
       "      <td>1</td>\n",
       "      <td>1029</td>\n",
       "      <td>3.0</td>\n",
       "      <td>2009</td>\n",
       "    </tr>\n",
       "    <tr>\n",
       "      <th>2</th>\n",
       "      <td>1</td>\n",
       "      <td>1061</td>\n",
       "      <td>3.0</td>\n",
       "      <td>2009</td>\n",
       "    </tr>\n",
       "    <tr>\n",
       "      <th>3</th>\n",
       "      <td>1</td>\n",
       "      <td>1129</td>\n",
       "      <td>2.0</td>\n",
       "      <td>2009</td>\n",
       "    </tr>\n",
       "    <tr>\n",
       "      <th>4</th>\n",
       "      <td>1</td>\n",
       "      <td>1172</td>\n",
       "      <td>4.0</td>\n",
       "      <td>2009</td>\n",
       "    </tr>\n",
       "  </tbody>\n",
       "</table>\n",
       "</div>"
      ],
      "text/plain": [
       "   userId  movieId  rating timestamp\n",
       "0       1       31     2.5      2009\n",
       "1       1     1029     3.0      2009\n",
       "2       1     1061     3.0      2009\n",
       "3       1     1129     2.0      2009\n",
       "4       1     1172     4.0      2009"
      ]
     },
     "execution_count": 3,
     "metadata": {},
     "output_type": "execute_result"
    }
   ],
   "source": [
    "df_ratings['timestamp'] = df_ratings['timestamp'].apply(lambda x: time.strftime('%Y', time.localtime(x)))\n",
    "df_ratings.head(5)"
   ]
  },
  {
   "cell_type": "code",
   "execution_count": 133,
   "metadata": {},
   "outputs": [
    {
     "name": "stdout",
     "output_type": "stream",
     "text": [
      "O dataset ratings contém 100004 entradas e 4 colunas.\n"
     ]
    }
   ],
   "source": [
    "print('O dataset ratings contém ' + str(df_ratings.shape[0]) + ' entradas e ' + str(df_ratings.shape[1]) + ' colunas.')"
   ]
  },
  {
   "cell_type": "code",
   "execution_count": 131,
   "metadata": {},
   "outputs": [
    {
     "data": {
      "text/html": [
       "<div>\n",
       "<style>\n",
       "    .dataframe thead tr:only-child th {\n",
       "        text-align: right;\n",
       "    }\n",
       "\n",
       "    .dataframe thead th {\n",
       "        text-align: left;\n",
       "    }\n",
       "\n",
       "    .dataframe tbody tr th {\n",
       "        vertical-align: top;\n",
       "    }\n",
       "</style>\n",
       "<table border=\"1\" class=\"dataframe\">\n",
       "  <thead>\n",
       "    <tr style=\"text-align: right;\">\n",
       "      <th></th>\n",
       "      <th>userId</th>\n",
       "      <th>movieId</th>\n",
       "      <th>rating</th>\n",
       "    </tr>\n",
       "  </thead>\n",
       "  <tbody>\n",
       "    <tr>\n",
       "      <th>count</th>\n",
       "      <td>100004.000000</td>\n",
       "      <td>100004.000000</td>\n",
       "      <td>100004.000000</td>\n",
       "    </tr>\n",
       "    <tr>\n",
       "      <th>mean</th>\n",
       "      <td>347.011310</td>\n",
       "      <td>12548.664363</td>\n",
       "      <td>3.543608</td>\n",
       "    </tr>\n",
       "    <tr>\n",
       "      <th>std</th>\n",
       "      <td>195.163838</td>\n",
       "      <td>26369.198969</td>\n",
       "      <td>1.058064</td>\n",
       "    </tr>\n",
       "    <tr>\n",
       "      <th>min</th>\n",
       "      <td>1.000000</td>\n",
       "      <td>1.000000</td>\n",
       "      <td>0.500000</td>\n",
       "    </tr>\n",
       "    <tr>\n",
       "      <th>25%</th>\n",
       "      <td>182.000000</td>\n",
       "      <td>1028.000000</td>\n",
       "      <td>3.000000</td>\n",
       "    </tr>\n",
       "    <tr>\n",
       "      <th>50%</th>\n",
       "      <td>367.000000</td>\n",
       "      <td>2406.500000</td>\n",
       "      <td>4.000000</td>\n",
       "    </tr>\n",
       "    <tr>\n",
       "      <th>75%</th>\n",
       "      <td>520.000000</td>\n",
       "      <td>5418.000000</td>\n",
       "      <td>4.000000</td>\n",
       "    </tr>\n",
       "    <tr>\n",
       "      <th>max</th>\n",
       "      <td>671.000000</td>\n",
       "      <td>163949.000000</td>\n",
       "      <td>5.000000</td>\n",
       "    </tr>\n",
       "  </tbody>\n",
       "</table>\n",
       "</div>"
      ],
      "text/plain": [
       "              userId        movieId         rating\n",
       "count  100004.000000  100004.000000  100004.000000\n",
       "mean      347.011310   12548.664363       3.543608\n",
       "std       195.163838   26369.198969       1.058064\n",
       "min         1.000000       1.000000       0.500000\n",
       "25%       182.000000    1028.000000       3.000000\n",
       "50%       367.000000    2406.500000       4.000000\n",
       "75%       520.000000    5418.000000       4.000000\n",
       "max       671.000000  163949.000000       5.000000"
      ]
     },
     "execution_count": 131,
     "metadata": {},
     "output_type": "execute_result"
    }
   ],
   "source": [
    "df_ratings.describe()"
   ]
  },
  {
   "cell_type": "markdown",
   "metadata": {},
   "source": [
    "Vemos que grande parte das notas de usuários se concentra entre 3 e 5."
   ]
  },
  {
   "cell_type": "markdown",
   "metadata": {},
   "source": [
    "**Carregando o Dataset de filmes**\n",
    "\n",
    "Cada linha deste dataset representa um filme.<br>\n",
    "**movieId** : ID do respectivo filme.<br>\n",
    "**title** : Nome do filme.<br>\n",
    "**genres** : Gênero do filme"
   ]
  },
  {
   "cell_type": "code",
   "execution_count": 4,
   "metadata": {},
   "outputs": [
    {
     "data": {
      "text/html": [
       "<div>\n",
       "<style>\n",
       "    .dataframe thead tr:only-child th {\n",
       "        text-align: right;\n",
       "    }\n",
       "\n",
       "    .dataframe thead th {\n",
       "        text-align: left;\n",
       "    }\n",
       "\n",
       "    .dataframe tbody tr th {\n",
       "        vertical-align: top;\n",
       "    }\n",
       "</style>\n",
       "<table border=\"1\" class=\"dataframe\">\n",
       "  <thead>\n",
       "    <tr style=\"text-align: right;\">\n",
       "      <th></th>\n",
       "      <th>movieId</th>\n",
       "      <th>title</th>\n",
       "      <th>genres</th>\n",
       "    </tr>\n",
       "  </thead>\n",
       "  <tbody>\n",
       "    <tr>\n",
       "      <th>0</th>\n",
       "      <td>1</td>\n",
       "      <td>Toy Story (1995)</td>\n",
       "      <td>Adventure|Animation|Children|Comedy|Fantasy</td>\n",
       "    </tr>\n",
       "    <tr>\n",
       "      <th>1</th>\n",
       "      <td>2</td>\n",
       "      <td>Jumanji (1995)</td>\n",
       "      <td>Adventure|Children|Fantasy</td>\n",
       "    </tr>\n",
       "    <tr>\n",
       "      <th>2</th>\n",
       "      <td>3</td>\n",
       "      <td>Grumpier Old Men (1995)</td>\n",
       "      <td>Comedy|Romance</td>\n",
       "    </tr>\n",
       "    <tr>\n",
       "      <th>3</th>\n",
       "      <td>4</td>\n",
       "      <td>Waiting to Exhale (1995)</td>\n",
       "      <td>Comedy|Drama|Romance</td>\n",
       "    </tr>\n",
       "    <tr>\n",
       "      <th>4</th>\n",
       "      <td>5</td>\n",
       "      <td>Father of the Bride Part II (1995)</td>\n",
       "      <td>Comedy</td>\n",
       "    </tr>\n",
       "  </tbody>\n",
       "</table>\n",
       "</div>"
      ],
      "text/plain": [
       "   movieId                               title  \\\n",
       "0        1                    Toy Story (1995)   \n",
       "1        2                      Jumanji (1995)   \n",
       "2        3             Grumpier Old Men (1995)   \n",
       "3        4            Waiting to Exhale (1995)   \n",
       "4        5  Father of the Bride Part II (1995)   \n",
       "\n",
       "                                        genres  \n",
       "0  Adventure|Animation|Children|Comedy|Fantasy  \n",
       "1                   Adventure|Children|Fantasy  \n",
       "2                               Comedy|Romance  \n",
       "3                         Comedy|Drama|Romance  \n",
       "4                                       Comedy  "
      ]
     },
     "execution_count": 4,
     "metadata": {},
     "output_type": "execute_result"
    }
   ],
   "source": [
    "df_filmes = pd.read_csv('movies.csv')\n",
    "df_filmes.head(5)"
   ]
  },
  {
   "cell_type": "markdown",
   "metadata": {},
   "source": [
    "**Isolando o ano em outra coluna **"
   ]
  },
  {
   "cell_type": "code",
   "execution_count": 5,
   "metadata": {},
   "outputs": [
    {
     "data": {
      "text/html": [
       "<div>\n",
       "<style>\n",
       "    .dataframe thead tr:only-child th {\n",
       "        text-align: right;\n",
       "    }\n",
       "\n",
       "    .dataframe thead th {\n",
       "        text-align: left;\n",
       "    }\n",
       "\n",
       "    .dataframe tbody tr th {\n",
       "        vertical-align: top;\n",
       "    }\n",
       "</style>\n",
       "<table border=\"1\" class=\"dataframe\">\n",
       "  <thead>\n",
       "    <tr style=\"text-align: right;\">\n",
       "      <th></th>\n",
       "      <th>movieId</th>\n",
       "      <th>title</th>\n",
       "      <th>genres</th>\n",
       "      <th>year</th>\n",
       "    </tr>\n",
       "  </thead>\n",
       "  <tbody>\n",
       "    <tr>\n",
       "      <th>0</th>\n",
       "      <td>1</td>\n",
       "      <td>Toy Story (1995)</td>\n",
       "      <td>Adventure|Animation|Children|Comedy|Fantasy</td>\n",
       "      <td>1995</td>\n",
       "    </tr>\n",
       "    <tr>\n",
       "      <th>1</th>\n",
       "      <td>2</td>\n",
       "      <td>Jumanji (1995)</td>\n",
       "      <td>Adventure|Children|Fantasy</td>\n",
       "      <td>1995</td>\n",
       "    </tr>\n",
       "    <tr>\n",
       "      <th>2</th>\n",
       "      <td>3</td>\n",
       "      <td>Grumpier Old Men (1995)</td>\n",
       "      <td>Comedy|Romance</td>\n",
       "      <td>1995</td>\n",
       "    </tr>\n",
       "    <tr>\n",
       "      <th>3</th>\n",
       "      <td>4</td>\n",
       "      <td>Waiting to Exhale (1995)</td>\n",
       "      <td>Comedy|Drama|Romance</td>\n",
       "      <td>1995</td>\n",
       "    </tr>\n",
       "    <tr>\n",
       "      <th>4</th>\n",
       "      <td>5</td>\n",
       "      <td>Father of the Bride Part II (1995)</td>\n",
       "      <td>Comedy</td>\n",
       "      <td>1995</td>\n",
       "    </tr>\n",
       "  </tbody>\n",
       "</table>\n",
       "</div>"
      ],
      "text/plain": [
       "   movieId                               title  \\\n",
       "0        1                    Toy Story (1995)   \n",
       "1        2                      Jumanji (1995)   \n",
       "2        3             Grumpier Old Men (1995)   \n",
       "3        4            Waiting to Exhale (1995)   \n",
       "4        5  Father of the Bride Part II (1995)   \n",
       "\n",
       "                                        genres  year  \n",
       "0  Adventure|Animation|Children|Comedy|Fantasy  1995  \n",
       "1                   Adventure|Children|Fantasy  1995  \n",
       "2                               Comedy|Romance  1995  \n",
       "3                         Comedy|Drama|Romance  1995  \n",
       "4                                       Comedy  1995  "
      ]
     },
     "execution_count": 5,
     "metadata": {},
     "output_type": "execute_result"
    }
   ],
   "source": [
    "df_filmes[\"year\"] = df_filmes['title'].str.extract('.*\\((.*)\\).*', expand=False)\n",
    "df_filmes.head()"
   ]
  },
  {
   "cell_type": "code",
   "execution_count": 13,
   "metadata": {},
   "outputs": [
    {
     "name": "stdout",
     "output_type": "stream",
     "text": [
      "O dataset movies contém 9125 entradas e 4 colunas.\n"
     ]
    }
   ],
   "source": [
    "print('O dataset movies contém ' + str(df_filmes.shape[0]) + ' entradas e ' + str(df_filmes.shape[1]) + ' colunas.')"
   ]
  },
  {
   "cell_type": "code",
   "execution_count": 6,
   "metadata": {},
   "outputs": [
    {
     "data": {
      "text/html": [
       "<div>\n",
       "<style>\n",
       "    .dataframe thead tr:only-child th {\n",
       "        text-align: right;\n",
       "    }\n",
       "\n",
       "    .dataframe thead th {\n",
       "        text-align: left;\n",
       "    }\n",
       "\n",
       "    .dataframe tbody tr th {\n",
       "        vertical-align: top;\n",
       "    }\n",
       "</style>\n",
       "<table border=\"1\" class=\"dataframe\">\n",
       "  <thead>\n",
       "    <tr style=\"text-align: right;\">\n",
       "      <th></th>\n",
       "      <th>movieId</th>\n",
       "      <th>imdbId</th>\n",
       "      <th>tmdbId</th>\n",
       "    </tr>\n",
       "  </thead>\n",
       "  <tbody>\n",
       "    <tr>\n",
       "      <th>0</th>\n",
       "      <td>1</td>\n",
       "      <td>114709</td>\n",
       "      <td>862.0</td>\n",
       "    </tr>\n",
       "    <tr>\n",
       "      <th>1</th>\n",
       "      <td>2</td>\n",
       "      <td>113497</td>\n",
       "      <td>8844.0</td>\n",
       "    </tr>\n",
       "    <tr>\n",
       "      <th>2</th>\n",
       "      <td>3</td>\n",
       "      <td>113228</td>\n",
       "      <td>15602.0</td>\n",
       "    </tr>\n",
       "    <tr>\n",
       "      <th>3</th>\n",
       "      <td>4</td>\n",
       "      <td>114885</td>\n",
       "      <td>31357.0</td>\n",
       "    </tr>\n",
       "    <tr>\n",
       "      <th>4</th>\n",
       "      <td>5</td>\n",
       "      <td>113041</td>\n",
       "      <td>11862.0</td>\n",
       "    </tr>\n",
       "  </tbody>\n",
       "</table>\n",
       "</div>"
      ],
      "text/plain": [
       "   movieId  imdbId   tmdbId\n",
       "0        1  114709    862.0\n",
       "1        2  113497   8844.0\n",
       "2        3  113228  15602.0\n",
       "3        4  114885  31357.0\n",
       "4        5  113041  11862.0"
      ]
     },
     "execution_count": 6,
     "metadata": {},
     "output_type": "execute_result"
    }
   ],
   "source": [
    "df_links = pd.read_csv('links.csv')\n",
    "df_links.head(5)"
   ]
  },
  {
   "cell_type": "code",
   "execution_count": 31,
   "metadata": {},
   "outputs": [
    {
     "name": "stdout",
     "output_type": "stream",
     "text": [
      "O dataset links contém 9125 entradas e 3 colunas.\n"
     ]
    }
   ],
   "source": [
    "print('O dataset links contém ' + str(df_links.shape[0]) + ' entradas e ' + str(df_links.shape[1]) + ' colunas.')"
   ]
  },
  {
   "cell_type": "code",
   "execution_count": 7,
   "metadata": {},
   "outputs": [
    {
     "name": "stdout",
     "output_type": "stream",
     "text": [
      "O conjunto de dados possui 671 usuários e 9125 filmes\n",
      "O links.csv possui 9125 entradas de filmes\n"
     ]
    }
   ],
   "source": [
    "# Quantidade de usuários\n",
    "users_count = df_ratings['userId'].nunique()\n",
    "\n",
    "# Quantidade de filmes\n",
    "movies_count = df_filmes['movieId'].nunique()\n",
    "\n",
    "# Verificando se a quantidade de filmes equivale ao do movies.csv\n",
    "links_count = df_links['movieId'].nunique()\n",
    "\n",
    "print('O conjunto de dados possui {0} usuários e {1} filmes'.format(users_count,movies_count))\n",
    "print('O links.csv possui {0} entradas de filmes'.format(links_count))"
   ]
  },
  {
   "cell_type": "markdown",
   "metadata": {},
   "source": [
    "## **Data Cleaning**"
   ]
  },
  {
   "cell_type": "markdown",
   "metadata": {},
   "source": [
    "Verificando se os dataframes possuem valores nulos"
   ]
  },
  {
   "cell_type": "code",
   "execution_count": 7,
   "metadata": {},
   "outputs": [
    {
     "data": {
      "text/plain": [
       "userId       False\n",
       "movieId      False\n",
       "rating       False\n",
       "timestamp    False\n",
       "dtype: bool"
      ]
     },
     "execution_count": 7,
     "metadata": {},
     "output_type": "execute_result"
    }
   ],
   "source": [
    "df_ratings.isnull().any()"
   ]
  },
  {
   "cell_type": "code",
   "execution_count": 8,
   "metadata": {},
   "outputs": [
    {
     "data": {
      "text/plain": [
       "movieId    False\n",
       "title      False\n",
       "genres     False\n",
       "year        True\n",
       "dtype: bool"
      ]
     },
     "execution_count": 8,
     "metadata": {},
     "output_type": "execute_result"
    }
   ],
   "source": [
    "df_filmes.isnull().any()"
   ]
  },
  {
   "cell_type": "markdown",
   "metadata": {},
   "source": [
    "O dataframe df_filmes possui valores nulos na coluna \"year\". Não vai atrapalhar no treinamento do modelo, mas pode atrapalhar na visualização exploratória, a depender da quantidade de valores nulos."
   ]
  },
  {
   "cell_type": "code",
   "execution_count": 13,
   "metadata": {},
   "outputs": [
    {
     "data": {
      "text/plain": [
       "year    4\n",
       "dtype: int64"
      ]
     },
     "execution_count": 13,
     "metadata": {},
     "output_type": "execute_result"
    }
   ],
   "source": [
    "null_columns=df_filmes.columns[df_filmes.isnull().any()]\n",
    "df_filmes[null_columns].isnull().sum()"
   ]
  },
  {
   "cell_type": "markdown",
   "metadata": {},
   "source": [
    "Existem apenas 4 valores nulos na coluna \"year\", não irá fazer diferença na visualização. Vou manter a linha pois não poderá faltar filmes neste dataframe."
   ]
  },
  {
   "cell_type": "code",
   "execution_count": 10,
   "metadata": {},
   "outputs": [
    {
     "data": {
      "text/plain": [
       "movieId    False\n",
       "imdbId     False\n",
       "tmdbId      True\n",
       "dtype: bool"
      ]
     },
     "execution_count": 10,
     "metadata": {},
     "output_type": "execute_result"
    }
   ],
   "source": [
    "df_links.isnull().any()"
   ]
  },
  {
   "cell_type": "markdown",
   "metadata": {},
   "source": [
    "Temos links do TMDB faltando, vamos verificar quantos."
   ]
  },
  {
   "cell_type": "code",
   "execution_count": 14,
   "metadata": {},
   "outputs": [
    {
     "data": {
      "text/plain": [
       "tmdbId    13\n",
       "dtype: int64"
      ]
     },
     "execution_count": 14,
     "metadata": {},
     "output_type": "execute_result"
    }
   ],
   "source": [
    "null_columns=df_links.columns[df_links.isnull().any()]\n",
    "df_links[null_columns].isnull().sum()"
   ]
  },
  {
   "cell_type": "markdown",
   "metadata": {},
   "source": [
    "13 links faltando. Agora vamos verificar quais."
   ]
  },
  {
   "cell_type": "code",
   "execution_count": 40,
   "metadata": {},
   "outputs": [
    {
     "data": {
      "text/plain": [
       "607        720\n",
       "608        721\n",
       "640        769\n",
       "910       1133\n",
       "2282      2851\n",
       "3246      4051\n",
       "5826     26587\n",
       "7408     72781\n",
       "7438     73759\n",
       "7588     79299\n",
       "8045     94466\n",
       "8505    108548\n",
       "8507    108583\n",
       "Name: movieId, dtype: int64"
      ]
     },
     "execution_count": 40,
     "metadata": {},
     "output_type": "execute_result"
    }
   ],
   "source": [
    "null_links = df_links[df_links['tmdbId'].isnull()]['movieId']\n",
    "null_links"
   ]
  },
  {
   "cell_type": "markdown",
   "metadata": {},
   "source": [
    "Caso algum desses \"movieId\" seja selecionado para buscar dados da API do TMDb, estaremos cientes do problema. Pode prejudicar somente a visualização da capa do filme, não é algo que vai prejuticar o modelo em si."
   ]
  },
  {
   "cell_type": "markdown",
   "metadata": {},
   "source": [
    "## **Visualização Exploratória**"
   ]
  },
  {
   "cell_type": "markdown",
   "metadata": {},
   "source": [
    "Vamos observar a distribuição dos dados de classificações feitas por usuários:"
   ]
  },
  {
   "cell_type": "code",
   "execution_count": 8,
   "metadata": {},
   "outputs": [
    {
     "data": {
      "image/png": "[encoded data removed]",
      "text/plain": [
       "<matplotlib.figure.Figure at 0x222ad818240>"
      ]
     },
     "metadata": {},
     "output_type": "display_data"
    }
   ],
   "source": [
    "plt.figure(figsize=(12,5))\n",
    "ax = sns.distplot(df_ratings['rating'], hist= True, kde=False, axlabel='Classificações',\n",
    "                 hist_kws={\"rwidth\": 5.0, \"linewidth\":1, 'edgecolor':'black', 'alpha': 1.0})\n",
    "plt.show()"
   ]
  },
  {
   "cell_type": "markdown",
   "metadata": {},
   "source": [
    "Aqui confirmamos a análise onde verificamos que os usuários tendem a classificar filmes que acharam medianos a muito bons."
   ]
  },
  {
   "cell_type": "code",
   "execution_count": 7,
   "metadata": {},
   "outputs": [
    {
     "data": {
      "text/plain": [
       "(9125, 4)"
      ]
     },
     "execution_count": 7,
     "metadata": {},
     "output_type": "execute_result"
    }
   ],
   "source": [
    "df_plot = df_filmes\n",
    "df_plot.shape"
   ]
  },
  {
   "cell_type": "code",
   "execution_count": 11,
   "metadata": {},
   "outputs": [
    {
     "data": {
      "text/html": [
       "<div>\n",
       "<style>\n",
       "    .dataframe thead tr:only-child th {\n",
       "        text-align: right;\n",
       "    }\n",
       "\n",
       "    .dataframe thead th {\n",
       "        text-align: left;\n",
       "    }\n",
       "\n",
       "    .dataframe tbody tr th {\n",
       "        vertical-align: top;\n",
       "    }\n",
       "</style>\n",
       "<table border=\"1\" class=\"dataframe\">\n",
       "  <thead>\n",
       "    <tr style=\"text-align: right;\">\n",
       "      <th></th>\n",
       "      <th>movieId</th>\n",
       "      <th>title</th>\n",
       "      <th>genres</th>\n",
       "      <th>year</th>\n",
       "    </tr>\n",
       "  </thead>\n",
       "  <tbody>\n",
       "    <tr>\n",
       "      <th>0</th>\n",
       "      <td>1</td>\n",
       "      <td>Toy Story (1995)</td>\n",
       "      <td>Adventure</td>\n",
       "      <td>1995</td>\n",
       "    </tr>\n",
       "    <tr>\n",
       "      <th>0</th>\n",
       "      <td>1</td>\n",
       "      <td>Toy Story (1995)</td>\n",
       "      <td>Animation</td>\n",
       "      <td>1995</td>\n",
       "    </tr>\n",
       "    <tr>\n",
       "      <th>0</th>\n",
       "      <td>1</td>\n",
       "      <td>Toy Story (1995)</td>\n",
       "      <td>Children</td>\n",
       "      <td>1995</td>\n",
       "    </tr>\n",
       "    <tr>\n",
       "      <th>0</th>\n",
       "      <td>1</td>\n",
       "      <td>Toy Story (1995)</td>\n",
       "      <td>Comedy</td>\n",
       "      <td>1995</td>\n",
       "    </tr>\n",
       "    <tr>\n",
       "      <th>0</th>\n",
       "      <td>1</td>\n",
       "      <td>Toy Story (1995)</td>\n",
       "      <td>Fantasy</td>\n",
       "      <td>1995</td>\n",
       "    </tr>\n",
       "  </tbody>\n",
       "</table>\n",
       "</div>"
      ],
      "text/plain": [
       "   movieId             title     genres  year\n",
       "0        1  Toy Story (1995)  Adventure  1995\n",
       "0        1  Toy Story (1995)  Animation  1995\n",
       "0        1  Toy Story (1995)   Children  1995\n",
       "0        1  Toy Story (1995)     Comedy  1995\n",
       "0        1  Toy Story (1995)    Fantasy  1995"
      ]
     },
     "execution_count": 11,
     "metadata": {},
     "output_type": "execute_result"
    }
   ],
   "source": [
    "# A função tidy_split() passa pelos valores de uma coluna de um dataframe\n",
    "# e separa em linhas direfentes as strings de cada célula, utilizando como separador o '|'.\n",
    "# Solução inspirada em um comentário do Stack Overflow: \n",
    "# https://stackoverflow.com/questions/12680754/split-explode-pandas-dataframe-string-entry-to-separate-rows\n",
    "# Necessário para fazer a contagem de lançamentos anuais de cada gênero\n",
    "\n",
    "def tidy_split(df, column, sep='|', keep=False):\n",
    "    indexes = list()\n",
    "    new_values = list()\n",
    "    df = df.dropna(subset=[column])\n",
    "    for i, presplit in enumerate(df[column].astype(str)):\n",
    "        values = presplit.split(sep)\n",
    "        if keep and len(values) > 1:\n",
    "            indexes.append(i)\n",
    "            new_values.append(presplit)\n",
    "        for value in values:\n",
    "            indexes.append(i)\n",
    "            new_values.append(value)\n",
    "    new_df = df.iloc[indexes, :].copy()\n",
    "    new_df[column] = new_values\n",
    "    return new_df\n",
    "\n",
    "df_plot = tidy_split(df_plot, \"genres\", sep=\"|\")\n",
    "\n",
    "# convertendo a df_plot['year'] para numérico\n",
    "df_plot[\"year\"] = pd.to_numeric(df_plot[\"year\"] ,errors='coerce')\n",
    "# excluindo colunas com valores não definidos\n",
    "df_plot = df_plot.dropna()\n",
    "# convertendo df_plot['year'] para inteiro\n",
    "df_plot.year = df_plot.year.astype(int)\n",
    "df_plot.head(5)"
   ]
  },
  {
   "cell_type": "markdown",
   "metadata": {},
   "source": [
    "**Quantidade de produções cinematográfica ao longo dos anos**"
   ]
  },
  {
   "cell_type": "code",
   "execution_count": 12,
   "metadata": {},
   "outputs": [
    {
     "data": {
      "image/png": "[encoded data removed]",
      "text/plain": [
       "<matplotlib.figure.Figure at 0x222ae4969e8>"
      ]
     },
     "metadata": {},
     "output_type": "display_data"
    }
   ],
   "source": [
    "byYear = df_plot.groupby(['year'])['year'].count()\n",
    "byYear.plot(kind='line', figsize=(12,7))\n",
    "plt.xlabel('Ano')\n",
    "plt.ylabel('Quantidade')\n",
    "plt.show()"
   ]
  },
  {
   "cell_type": "markdown",
   "metadata": {},
   "source": [
    "Anos que houveram mais lançamentos:"
   ]
  },
  {
   "cell_type": "code",
   "execution_count": 13,
   "metadata": {},
   "outputs": [
    {
     "data": {
      "text/plain": [
       "year\n",
       "2008    612\n",
       "2002    618\n",
       "2007    626\n",
       "2006    647\n",
       "2009    673\n",
       "Name: year, dtype: int64"
      ]
     },
     "execution_count": 13,
     "metadata": {},
     "output_type": "execute_result"
    }
   ],
   "source": [
    "byYear.sort_values().tail(5)"
   ]
  },
  {
   "cell_type": "markdown",
   "metadata": {},
   "source": [
    "**Quantidade de ocorrências de gêneros ao longo dos anos**"
   ]
  },
  {
   "cell_type": "code",
   "execution_count": 14,
   "metadata": {},
   "outputs": [
    {
     "data": {
      "image/png": "[encoded data removed]",
      "text/plain": [
       "<matplotlib.figure.Figure at 0x222ae4fe048>"
      ]
     },
     "metadata": {},
     "output_type": "display_data"
    }
   ],
   "source": [
    "# Agrupando em uma hierarquia de ano -> gênero e fazendo a contagem por gênero.\n",
    "df_plot = df_plot.groupby(['year', 'genres'])['genres'].count()\n",
    "# Pivotando os gêneros em colunas para realizar a plotagem\n",
    "df_plot2 = df_plot.unstack()\n",
    "\n",
    "plt.style.use('fivethirtyeight')\n",
    "fig, ax = plt.subplots(figsize=(12,7))\n",
    "ax.plot(df_plot2.index, df_plot2.Drama, lw=2, label='Drama')\n",
    "ax.plot(df_plot2.index, df_plot2.Comedy, lw=2, label='Comédia')\n",
    "ax.plot(df_plot2.index, df_plot2.Thriller, lw=2, label='Suspense')\n",
    "ax.plot(df_plot2.index, df_plot2.Action, lw=2, label='Ação')\n",
    "ax.plot(df_plot2.index, df_plot2.Romance, lw=2, label='Romance')\n",
    "ax.plot(df_plot2.index, df_plot2.Adventure, lw=2, label='Aventura')\n",
    "ax.legend(prop={'size': 12})\n",
    "plt.xlabel('Ano')\n",
    "plt.ylabel('Quantidade')\n",
    "plt.show()"
   ]
  },
  {
   "cell_type": "markdown",
   "metadata": {},
   "source": [
    "**Quantidade de ocorrências de gêneros ao longo dos anos**"
   ]
  },
  {
   "cell_type": "code",
   "execution_count": 15,
   "metadata": {},
   "outputs": [
    {
     "data": {
      "image/png": "[encoded data removed]",
      "text/plain": [
       "<matplotlib.figure.Figure at 0x222ae840c18>"
      ]
     },
     "metadata": {},
     "output_type": "display_data"
    }
   ],
   "source": [
    "plt.style.use('fivethirtyeight')\n",
    "fig, ax = plt.subplots(figsize=(12,7))\n",
    "ax.plot(df_plot2.index, df_plot2.Animation, lw=2, label='Animação')\n",
    "ax.plot(df_plot2.index, df_plot2.War, lw=2, label='Guerra')\n",
    "ax.plot(df_plot2.index, df_plot2['Sci-Fi'], lw=2, label='Ficção científica')\n",
    "ax.plot(df_plot2.index, df_plot2.IMAX, lw=2, label='IMAX')\n",
    "ax.plot(df_plot2.index, df_plot2.Children, lw=2, label='Infantil')\n",
    "ax.plot(df_plot2.index, df_plot2['Film-Noir'], lw=2, label='Film-Noir')\n",
    "\n",
    "ax.legend(prop={'size': 12})\n",
    "plt.xlabel('Ano')\n",
    "plt.ylabel('Quantidade')\n",
    "plt.show()"
   ]
  },
  {
   "cell_type": "markdown",
   "metadata": {},
   "source": [
    "#### **Observando a popupalidade dos gêneros**"
   ]
  },
  {
   "cell_type": "markdown",
   "metadata": {},
   "source": [
    "Definindo uma função para fazer o trabalho de contagem de quais os gêneros mais populares fazer uma visualização."
   ]
  },
  {
   "cell_type": "code",
   "execution_count": 38,
   "metadata": {},
   "outputs": [
    {
     "data": {
      "image/png": "[encoded data removed]",
      "text/plain": [
       "<matplotlib.figure.Figure at 0x184825ba390>"
      ]
     },
     "metadata": {},
     "output_type": "display_data"
    },
    {
     "data": {
      "text/plain": [
       "[['Drama', 4365],\n",
       " ['Comedy', 3315],\n",
       " ['Thriller', 1729],\n",
       " ['Romance', 1545],\n",
       " ['Action', 1545],\n",
       " ['Adventure', 1117],\n",
       " ['Crime', 1100],\n",
       " ['Horror', 877],\n",
       " ['Sci-Fi', 792],\n",
       " ['Fantasy', 654]]"
      ]
     },
     "execution_count": 38,
     "metadata": {},
     "output_type": "execute_result"
    }
   ],
   "source": [
    "# conta o número de ocorrências de cada gênero e plota\n",
    "# em uma imagem. Quanto maior o número de ocorrências, maior a letra. \n",
    "\n",
    "def contador(df, ref_col, liste):\n",
    "    keyword_count = dict()\n",
    "    for s in liste: keyword_count[s] = 0\n",
    "    for liste_keywords in df[ref_col].str.split('|'):        \n",
    "        if type(liste_keywords) == float and pd.isnull(liste_keywords): continue        \n",
    "        for s in [s for s in liste_keywords if s in liste]: \n",
    "            if pd.notnull(s): keyword_count[s] += 1\n",
    "    keyword_occurences = []\n",
    "    for k,v in keyword_count.items():\n",
    "        keyword_occurences.append([k,v])\n",
    "    keyword_occurences.sort(key = lambda x:x[1], reverse = True)\n",
    "    return keyword_occurences, keyword_count           \n",
    "\n",
    "generos = set()\n",
    "for s in df_filmes['genres'].str.split('|').values:\n",
    "    generos = generos.union(set(s))\n",
    "    \n",
    "ocorrencias_genero, dum = contador(df_filmes, 'genres', generos) \n",
    "\n",
    "words = dict()\n",
    "trunc_occurences = ocorrencias_genero[0:50]\n",
    "\n",
    "for s in ocorrencias_genero:\n",
    "    words[s[0]] = s[1]\n",
    "\n",
    "f, ax = plt.subplots(figsize=(10, 7))\n",
    "wordcloud = WordCloud(max_font_size=40).generate_from_frequencies(words)\n",
    "\n",
    "plt.imshow(wordcloud, cmap=plt.cm.tab20, interpolation=\"bilinear\")\n",
    "plt.axis('off')\n",
    "plt.show()\n",
    "ocorrencias_genero[:10] "
   ]
  },
  {
   "cell_type": "markdown",
   "metadata": {},
   "source": [
    "## Calibrando o algoritmo"
   ]
  },
  {
   "cell_type": "markdown",
   "metadata": {},
   "source": [
    "Nesta seção vamos utilizar a Busca de Grade para encontrar a melhor combinação de parâmetros para utilizar no treinamento do algoritmo SVD. A busca de grade fornecida pela biblioteca Surprise foi inspirada na que encontramos no scikit-learn.\n"
   ]
  },
  {
   "cell_type": "code",
   "execution_count": 171,
   "metadata": {
    "scrolled": true
   },
   "outputs": [
    {
     "name": "stdout",
     "output_type": "stream",
     "text": [
      "0.892543206267\n",
      "0.688931430331\n",
      "{'n_epochs': 30, 'lr_all': 0.005, 'reg_all': 0.1, 'biased': True}\n",
      "{'n_epochs': 30, 'lr_all': 0.005, 'reg_all': 0.1, 'biased': True}\n"
     ]
    }
   ],
   "source": [
    "reader = Reader(rating_scale=(1, 5))\n",
    "data = Dataset.load_from_df(df_ratings[['userId', 'movieId','rating']], reader)\n",
    "\n",
    "param_grid = {'n_epochs': [5, 10, 20, 30], 'lr_all': [0.002, 0.005],\n",
    "              'reg_all': [0.1, 0.4, 0.8], 'biased':[True]}\n",
    "gs = GridSearchCV(SVD, param_grid, measures=['rmse', 'mae'], cv=3)\n",
    "gs.fit(data)\n",
    "\n",
    "# melhor pontuação para RMSE\n",
    "print(gs.best_score['rmse'])\n",
    "\n",
    "# melhor pontuação para MAE\n",
    "print(gs.best_score['mae'])\n",
    "\n",
    "# melhores parâmetros de acordo com o RMSE\n",
    "print(gs.best_params['rmse'])\n",
    "\n",
    "# melhores parâmetros de acordo com o MAE\n",
    "print(gs.best_params['mae'])"
   ]
  },
  {
   "cell_type": "markdown",
   "metadata": {},
   "source": [
    "OBS: <br>\n",
    "n_epochs = número de repetições de gradiente descendente estocástico<br>\n",
    "lr_all = learning rate<br>\n",
    "reg_all = parâmetro de regularização<br>\n",
    "biased = ajuste de tendências do usuário"
   ]
  },
  {
   "cell_type": "code",
   "execution_count": 41,
   "metadata": {
    "scrolled": true
   },
   "outputs": [
    {
     "name": "stdout",
     "output_type": "stream",
     "text": [
      "Estimating biases using als...\n",
      "Computing the pearson_baseline similarity matrix...\n",
      "Done computing similarity matrix.\n",
      "Estimating biases using als...\n",
      "Computing the pearson_baseline similarity matrix...\n",
      "Done computing similarity matrix.\n",
      "Estimating biases using als...\n",
      "Computing the pearson_baseline similarity matrix...\n",
      "Done computing similarity matrix.\n",
      "Estimating biases using als...\n",
      "Computing the pearson_baseline similarity matrix...\n",
      "Done computing similarity matrix.\n",
      "Estimating biases using als...\n",
      "Computing the pearson_baseline similarity matrix...\n",
      "Done computing similarity matrix.\n",
      "Estimating biases using als...\n",
      "Computing the pearson_baseline similarity matrix...\n",
      "Done computing similarity matrix.\n",
      "Estimating biases using als...\n",
      "Computing the cosine similarity matrix...\n",
      "Done computing similarity matrix.\n",
      "Estimating biases using als...\n",
      "Computing the cosine similarity matrix...\n",
      "Done computing similarity matrix.\n",
      "Estimating biases using als...\n",
      "Computing the cosine similarity matrix...\n",
      "Done computing similarity matrix.\n",
      "Estimating biases using als...\n",
      "Computing the cosine similarity matrix...\n",
      "Done computing similarity matrix.\n",
      "Estimating biases using als...\n",
      "Computing the cosine similarity matrix...\n",
      "Done computing similarity matrix.\n",
      "Estimating biases using als...\n",
      "Computing the cosine similarity matrix...\n",
      "Done computing similarity matrix.\n",
      "Estimating biases using als...\n",
      "Computing the pearson_baseline similarity matrix...\n",
      "Done computing similarity matrix.\n",
      "Estimating biases using als...\n",
      "Computing the pearson_baseline similarity matrix...\n",
      "Done computing similarity matrix.\n",
      "Estimating biases using als...\n",
      "Computing the pearson_baseline similarity matrix...\n",
      "Done computing similarity matrix.\n",
      "Estimating biases using als...\n",
      "Computing the pearson_baseline similarity matrix...\n",
      "Done computing similarity matrix.\n",
      "Estimating biases using als...\n",
      "Computing the pearson_baseline similarity matrix...\n",
      "Done computing similarity matrix.\n",
      "Estimating biases using als...\n",
      "Computing the pearson_baseline similarity matrix...\n",
      "Done computing similarity matrix.\n",
      "Estimating biases using als...\n",
      "Computing the cosine similarity matrix...\n",
      "Done computing similarity matrix.\n",
      "Estimating biases using als...\n",
      "Computing the cosine similarity matrix...\n",
      "Done computing similarity matrix.\n",
      "Estimating biases using als...\n",
      "Computing the cosine similarity matrix...\n",
      "Done computing similarity matrix.\n",
      "Estimating biases using als...\n",
      "Computing the cosine similarity matrix...\n",
      "Done computing similarity matrix.\n",
      "Estimating biases using als...\n",
      "Computing the cosine similarity matrix...\n",
      "Done computing similarity matrix.\n",
      "Estimating biases using als...\n",
      "Computing the cosine similarity matrix...\n",
      "Done computing similarity matrix.\n",
      "Estimating biases using als...\n",
      "Computing the pearson_baseline similarity matrix...\n",
      "Done computing similarity matrix.\n",
      "Estimating biases using als...\n",
      "Computing the pearson_baseline similarity matrix...\n",
      "Done computing similarity matrix.\n",
      "Estimating biases using als...\n",
      "Computing the pearson_baseline similarity matrix...\n",
      "Done computing similarity matrix.\n",
      "Estimating biases using als...\n",
      "Computing the pearson_baseline similarity matrix...\n",
      "Done computing similarity matrix.\n",
      "Estimating biases using als...\n",
      "Computing the pearson_baseline similarity matrix...\n",
      "Done computing similarity matrix.\n",
      "Estimating biases using als...\n",
      "Computing the pearson_baseline similarity matrix...\n",
      "Done computing similarity matrix.\n",
      "Estimating biases using als...\n",
      "Computing the cosine similarity matrix...\n",
      "Done computing similarity matrix.\n",
      "Estimating biases using als...\n",
      "Computing the cosine similarity matrix...\n",
      "Done computing similarity matrix.\n",
      "Estimating biases using als...\n",
      "Computing the cosine similarity matrix...\n",
      "Done computing similarity matrix.\n",
      "Estimating biases using als...\n",
      "Computing the cosine similarity matrix...\n",
      "Done computing similarity matrix.\n",
      "Estimating biases using als...\n",
      "Computing the cosine similarity matrix...\n",
      "Done computing similarity matrix.\n",
      "Estimating biases using als...\n",
      "Computing the cosine similarity matrix...\n",
      "Done computing similarity matrix.\n",
      "Estimating biases using als...\n",
      "Computing the pearson_baseline similarity matrix...\n",
      "Done computing similarity matrix.\n",
      "Estimating biases using als...\n",
      "Computing the pearson_baseline similarity matrix...\n",
      "Done computing similarity matrix.\n",
      "Estimating biases using als...\n",
      "Computing the pearson_baseline similarity matrix...\n",
      "Done computing similarity matrix.\n",
      "Estimating biases using als...\n",
      "Computing the pearson_baseline similarity matrix...\n",
      "Done computing similarity matrix.\n",
      "Estimating biases using als...\n",
      "Computing the pearson_baseline similarity matrix...\n",
      "Done computing similarity matrix.\n",
      "Estimating biases using als...\n",
      "Computing the pearson_baseline similarity matrix...\n",
      "Done computing similarity matrix.\n",
      "Estimating biases using als...\n",
      "Computing the cosine similarity matrix...\n",
      "Done computing similarity matrix.\n",
      "Estimating biases using als...\n",
      "Computing the cosine similarity matrix...\n",
      "Done computing similarity matrix.\n",
      "Estimating biases using als...\n",
      "Computing the cosine similarity matrix...\n",
      "Done computing similarity matrix.\n",
      "Estimating biases using als...\n",
      "Computing the cosine similarity matrix...\n",
      "Done computing similarity matrix.\n",
      "Estimating biases using als...\n",
      "Computing the cosine similarity matrix...\n",
      "Done computing similarity matrix.\n",
      "Estimating biases using als...\n",
      "Computing the cosine similarity matrix...\n",
      "Done computing similarity matrix.\n",
      "Estimating biases using sgd...\n",
      "Computing the pearson_baseline similarity matrix...\n",
      "Done computing similarity matrix.\n",
      "Estimating biases using sgd...\n",
      "Computing the pearson_baseline similarity matrix...\n",
      "Done computing similarity matrix.\n",
      "Estimating biases using sgd...\n",
      "Computing the pearson_baseline similarity matrix...\n",
      "Done computing similarity matrix.\n",
      "Estimating biases using sgd...\n",
      "Computing the pearson_baseline similarity matrix...\n",
      "Done computing similarity matrix.\n",
      "Estimating biases using sgd...\n",
      "Computing the pearson_baseline similarity matrix...\n",
      "Done computing similarity matrix.\n",
      "Estimating biases using sgd...\n",
      "Computing the pearson_baseline similarity matrix...\n",
      "Done computing similarity matrix.\n",
      "Estimating biases using sgd...\n",
      "Computing the cosine similarity matrix...\n",
      "Done computing similarity matrix.\n",
      "Estimating biases using sgd...\n",
      "Computing the cosine similarity matrix...\n",
      "Done computing similarity matrix.\n",
      "Estimating biases using sgd...\n",
      "Computing the cosine similarity matrix...\n",
      "Done computing similarity matrix.\n",
      "Estimating biases using sgd...\n",
      "Computing the cosine similarity matrix...\n",
      "Done computing similarity matrix.\n",
      "Estimating biases using sgd...\n",
      "Computing the cosine similarity matrix...\n",
      "Done computing similarity matrix.\n",
      "Estimating biases using sgd...\n",
      "Computing the cosine similarity matrix...\n",
      "Done computing similarity matrix.\n",
      "Estimating biases using sgd...\n",
      "Computing the pearson_baseline similarity matrix...\n",
      "Done computing similarity matrix.\n",
      "Estimating biases using sgd...\n",
      "Computing the pearson_baseline similarity matrix...\n",
      "Done computing similarity matrix.\n",
      "Estimating biases using sgd...\n",
      "Computing the pearson_baseline similarity matrix...\n",
      "Done computing similarity matrix.\n",
      "Estimating biases using sgd...\n",
      "Computing the pearson_baseline similarity matrix...\n",
      "Done computing similarity matrix.\n",
      "Estimating biases using sgd...\n",
      "Computing the pearson_baseline similarity matrix...\n",
      "Done computing similarity matrix.\n",
      "Estimating biases using sgd...\n",
      "Computing the pearson_baseline similarity matrix...\n",
      "Done computing similarity matrix.\n",
      "Estimating biases using sgd...\n",
      "Computing the cosine similarity matrix...\n",
      "Done computing similarity matrix.\n",
      "Estimating biases using sgd...\n",
      "Computing the cosine similarity matrix...\n",
      "Done computing similarity matrix.\n",
      "Estimating biases using sgd...\n",
      "Computing the cosine similarity matrix...\n",
      "Done computing similarity matrix.\n",
      "Estimating biases using sgd...\n",
      "Computing the cosine similarity matrix...\n",
      "Done computing similarity matrix.\n",
      "Estimating biases using sgd...\n",
      "Computing the cosine similarity matrix...\n",
      "Done computing similarity matrix.\n",
      "Estimating biases using sgd...\n",
      "Computing the cosine similarity matrix...\n",
      "Done computing similarity matrix.\n",
      "Estimating biases using sgd...\n",
      "Computing the pearson_baseline similarity matrix...\n",
      "Done computing similarity matrix.\n",
      "Estimating biases using sgd...\n"
     ]
    },
    {
     "name": "stdout",
     "output_type": "stream",
     "text": [
      "Computing the pearson_baseline similarity matrix...\n",
      "Done computing similarity matrix.\n",
      "Estimating biases using sgd...\n",
      "Computing the pearson_baseline similarity matrix...\n",
      "Done computing similarity matrix.\n",
      "Estimating biases using sgd...\n",
      "Computing the pearson_baseline similarity matrix...\n",
      "Done computing similarity matrix.\n",
      "Estimating biases using sgd...\n",
      "Computing the pearson_baseline similarity matrix...\n",
      "Done computing similarity matrix.\n",
      "Estimating biases using sgd...\n",
      "Computing the pearson_baseline similarity matrix...\n",
      "Done computing similarity matrix.\n",
      "Estimating biases using sgd...\n",
      "Computing the cosine similarity matrix...\n",
      "Done computing similarity matrix.\n",
      "Estimating biases using sgd...\n",
      "Computing the cosine similarity matrix...\n",
      "Done computing similarity matrix.\n",
      "Estimating biases using sgd...\n",
      "Computing the cosine similarity matrix...\n",
      "Done computing similarity matrix.\n",
      "Estimating biases using sgd...\n",
      "Computing the cosine similarity matrix...\n",
      "Done computing similarity matrix.\n",
      "Estimating biases using sgd...\n",
      "Computing the cosine similarity matrix...\n",
      "Done computing similarity matrix.\n",
      "Estimating biases using sgd...\n",
      "Computing the cosine similarity matrix...\n",
      "Done computing similarity matrix.\n",
      "Estimating biases using sgd...\n",
      "Computing the pearson_baseline similarity matrix...\n",
      "Done computing similarity matrix.\n",
      "Estimating biases using sgd...\n",
      "Computing the pearson_baseline similarity matrix...\n",
      "Done computing similarity matrix.\n",
      "Estimating biases using sgd...\n",
      "Computing the pearson_baseline similarity matrix...\n",
      "Done computing similarity matrix.\n",
      "Estimating biases using sgd...\n",
      "Computing the pearson_baseline similarity matrix...\n",
      "Done computing similarity matrix.\n",
      "Estimating biases using sgd...\n",
      "Computing the pearson_baseline similarity matrix...\n",
      "Done computing similarity matrix.\n",
      "Estimating biases using sgd...\n",
      "Computing the pearson_baseline similarity matrix...\n",
      "Done computing similarity matrix.\n",
      "Estimating biases using sgd...\n",
      "Computing the cosine similarity matrix...\n",
      "Done computing similarity matrix.\n",
      "Estimating biases using sgd...\n",
      "Computing the cosine similarity matrix...\n",
      "Done computing similarity matrix.\n",
      "Estimating biases using sgd...\n",
      "Computing the cosine similarity matrix...\n",
      "Done computing similarity matrix.\n",
      "Estimating biases using sgd...\n",
      "Computing the cosine similarity matrix...\n",
      "Done computing similarity matrix.\n",
      "Estimating biases using sgd...\n",
      "Computing the cosine similarity matrix...\n",
      "Done computing similarity matrix.\n",
      "Estimating biases using sgd...\n",
      "Computing the cosine similarity matrix...\n",
      "Done computing similarity matrix.\n",
      "0.951820691987\n",
      "{'bsl_options': {'method': 'als', 'reg': 1}, 'k': 3, 'sim_options': {'name': 'pearson_baseline', 'min_support': 5, 'user_based': False}}\n"
     ]
    }
   ],
   "source": [
    "reader = Reader(rating_scale=(1, 5))\n",
    "data = Dataset.load_from_df(df_ratings[['userId', 'movieId','rating']], reader)\n",
    "\n",
    "param_grid = {'bsl_options': {'method': ['als', 'sgd'],\n",
    "                              'reg': [1, 2]},\n",
    "              'k': [2, 3],\n",
    "              'sim_options': {'name': ['pearson_baseline', 'cosine'],\n",
    "                              'min_support': [1, 5],\n",
    "                              'user_based': [False]}\n",
    "              }\n",
    "\n",
    "knn_gs = GridSearchCV(KNNBaseline, param_grid, measures=['rmse', 'mae'], cv=3)\n",
    "knn_gs.fit(data)\n",
    "\n",
    "# melhor pontuação para RMSE\n",
    "print(knn_gs.best_score['rmse'])\n",
    "\n",
    "# melhores parâmetros para o modelo\n",
    "print(knn_gs.best_params['rmse'])"
   ]
  },
  {
   "cell_type": "code",
   "execution_count": 62,
   "metadata": {},
   "outputs": [
    {
     "name": "stdout",
     "output_type": "stream",
     "text": [
      "0.72329153285\n",
      "{'bsl_options': {'method': 'als', 'reg': 1}, 'k': 3, 'sim_options': {'name': 'pearson_baseline', 'min_support': 5, 'user_based': False}}\n"
     ]
    }
   ],
   "source": [
    "# melhor pontuação para MAE\n",
    "print(knn_gs.best_score['mae'])\n",
    "# melhores parâmetros de acordo com o MAE\n",
    "print(knn_gs.best_params['mae'])"
   ]
  },
  {
   "cell_type": "markdown",
   "metadata": {},
   "source": [
    "## Implementação: K-Nearest Neighbour "
   ]
  },
  {
   "cell_type": "markdown",
   "metadata": {},
   "source": [
    "\n"
   ]
  },
  {
   "cell_type": "markdown",
   "metadata": {},
   "source": [
    "**K-Nearest Neighbour com coeficiente de correlação de Pearson**"
   ]
  },
  {
   "cell_type": "code",
   "execution_count": 14,
   "metadata": {},
   "outputs": [
    {
     "name": "stdout",
     "output_type": "stream",
     "text": [
      "Estimating biases using als...\n",
      "Computing the pearson_baseline similarity matrix...\n",
      "Done computing similarity matrix.\n"
     ]
    },
    {
     "data": {
      "text/plain": [
       "<surprise.prediction_algorithms.knns.KNNBaseline at 0x184f2731f60>"
      ]
     },
     "execution_count": 14,
     "metadata": {},
     "output_type": "execute_result"
    }
   ],
   "source": [
    "# Carregando os dados de df_ratings na biblioteca Surprise\n",
    "reader = Reader(rating_scale=(1, 5))\n",
    "data = Dataset.load_from_df(df_ratings[['userId', 'movieId','rating']], reader)\n",
    "\n",
    "# ajustando os parâmetros e definindo no algoritmo KNN\n",
    "sim_options = {'name': 'pearson_baseline','min_support': 5,'user_based': False}\n",
    "bsl_options = {'method': 'als',\n",
    "               'n_epochs': 5,\n",
    "               'reg': 1,\n",
    "               }\n",
    "algo = KNNBaseline(k=3, sim_options=sim_options, bsl_options=bsl_options)\n",
    "\n",
    "# treinando o conjunto de dados\n",
    "trainset = data.build_full_trainset()\n",
    "algo.fit(trainset)"
   ]
  },
  {
   "cell_type": "code",
   "execution_count": 69,
   "metadata": {
    "collapsed": true
   },
   "outputs": [],
   "source": [
    "# Busca o raw id (movieId) através nome do título no dataset df_filmes\n",
    "# depois converte o raw id para inner id\n",
    "# OBS: cada raw id é mapeado para um inteiro chamado inner id,\n",
    "# que é mais conveniente para o Surprise manipular.\n",
    "def title_to_rid(title):\n",
    "    raw_iid = df_filmes[df_filmes['title'] == title]['movieId'].item()\n",
    "    inner_iid = algo.trainset.to_inner_iid(raw_iid)\n",
    "    return inner_iid, raw_iid\n",
    "\n",
    "# Define o título e quantos K-neighbour deseja retornar.\n",
    "# Converte raw id do Surprise para inner id usando title_to_rid.\n",
    "# Busca os K neighbors usando a inner id e \n",
    "# Retorna as inner ids dos similares.\n",
    "# Converte inner ids dos similares para raw ids  \n",
    "\n",
    "# Define o título e quantos K-neighbour deseja retornar.\n",
    "def visualizar_sim(title, k):\n",
    "    # converte o title para inner id e raw id\n",
    "    inner_raw_iid = title_to_rid(title)\n",
    "    iid_similares = []\n",
    "    # recebe o inner id dos K Neighbours mais similares\n",
    "    iid_similares = algo.get_neighbors(inner_raw_iid[0], k)\n",
    "    #converte inner id para raw id (movieId)\n",
    "    rid = (algo.trainset.to_raw_iid(iid)\n",
    "          for iid in iid_similares)\n",
    "    # define os raw ids em uma lista\n",
    "    lst = list(rid)\n",
    "    filmes = []\n",
    "    image_urls = []\n",
    "    nomes_filmes = []\n",
    "    # Percorre a lista para buscar quais filmes pertencem ao raw id e\n",
    "    # busca na API do TMDb a capa do filme, para visualização, e o gênero.\n",
    "    for mid in lst:\n",
    "        nome_filme = df_filmes[df_filmes['movieId'] == mid]['title'].item()\n",
    "        nomes_filmes.append(nome_filme)\n",
    "        tmdbid = int(df_links[df_links['movieId'] == mid]['tmdbId'].item())\n",
    "        url = 'https://api.themoviedb.org/3/movie/' + str(tmdbid) + '?api_key=835087eb6e4fb4b6991c31b490316f2a'\n",
    "        resp = req.get(url)\n",
    "        parsed = json.loads(resp.text)\n",
    "        image = parsed['poster_path']        \n",
    "        image_url = 'https://image.tmdb.org/t/p/w200' +  str(image)\n",
    "        image_urls.append(image_url)\n",
    "        # exibe o nome do filme\n",
    "        display(nome_filme)      \n",
    "        for i in range(len(parsed['genres'])):\n",
    "            # exibe os gêneros do último filme para fazer comparações\n",
    "            display(parsed['genres'][i]['name']) #height='200' width='100'\n",
    "    html_str = '<table>\\\n",
    "                <tr> \\\n",
    "                <td><table><tr><td>'+ str(nomes_filmes[0]) +'</td></tr><tr><td><img src=' + str(image_urls[0]) + '></td></tr></table></td>\\\n",
    "                <td><table><tr><td>'+ str(nomes_filmes[1]) +'</td></tr><tr><td><img src=' + str(image_urls[1]) + '></td></tr></table></td>\\\n",
    "                <td><table><tr><td>'+ str(nomes_filmes[2]) +'</td></tr><tr><td><img src=' + str(image_urls[2]) + '></td></tr></table></td>\\\n",
    "                <td><table><tr><td>'+ str(nomes_filmes[3]) +'</td></tr><tr><td><img src=' + str(image_urls[3]) + '></td></tr></table></td>\\\n",
    "                <td><table><tr><td>'+ str(nomes_filmes[4]) +'</td></tr><tr><td><img src=' + str(image_urls[4]) + '></td></tr></table></td>\\\n",
    "                </tr> \\\n",
    "                <tr> \\\n",
    "                <td><table><tr><td>'+ str(nomes_filmes[5]) +'</td></tr><tr><td><img src=' + str(image_urls[5]) + ' ></td></tr></table></td>\\\n",
    "                <td><table><tr><td>'+ str(nomes_filmes[6]) +'</td></tr><tr><td><img src=' + str(image_urls[6]) + ' ></td></tr></table></td>\\\n",
    "                <td><table><tr><td>'+ str(nomes_filmes[7]) +'</td></tr><tr><td><img src=' + str(image_urls[7]) + ' ></td></tr></table></td>\\\n",
    "                <td><table><tr><td>'+ str(nomes_filmes[8]) +'</td></tr><tr><td><img src=' + str(image_urls[8]) + ' ></td></tr></table></td>\\\n",
    "                <td><table><tr><td>'+ str(nomes_filmes[9]) +'</td></tr><tr><td><img src=' + str(image_urls[9]) + ' ></td></tr></table></td>\\\n",
    "                </tr>\\\n",
    "                </table>'\n",
    "    \n",
    "    display(HTML(html_str))"
   ]
  },
  {
   "cell_type": "code",
   "execution_count": 70,
   "metadata": {
    "scrolled": false
   },
   "outputs": [
    {
     "name": "stdout",
     "output_type": "stream",
     "text": [
      "KNN com Pearson ---> TOP 10 filmes mais similares a Toy Story:\n"
     ]
    },
    {
     "data": {
      "text/plain": [
       "'Toy Story 2 (1999)'"
      ]
     },
     "metadata": {},
     "output_type": "display_data"
    },
    {
     "data": {
      "text/plain": [
       "'Animation'"
      ]
     },
     "metadata": {},
     "output_type": "display_data"
    },
    {
     "data": {
      "text/plain": [
       "'Comedy'"
      ]
     },
     "metadata": {},
     "output_type": "display_data"
    },
    {
     "data": {
      "text/plain": [
       "'Family'"
      ]
     },
     "metadata": {},
     "output_type": "display_data"
    },
    {
     "data": {
      "text/plain": [
       "\"Bug's Life, A (1998)\""
      ]
     },
     "metadata": {},
     "output_type": "display_data"
    },
    {
     "data": {
      "text/plain": [
       "'Adventure'"
      ]
     },
     "metadata": {},
     "output_type": "display_data"
    },
    {
     "data": {
      "text/plain": [
       "'Animation'"
      ]
     },
     "metadata": {},
     "output_type": "display_data"
    },
    {
     "data": {
      "text/plain": [
       "'Comedy'"
      ]
     },
     "metadata": {},
     "output_type": "display_data"
    },
    {
     "data": {
      "text/plain": [
       "'Family'"
      ]
     },
     "metadata": {},
     "output_type": "display_data"
    },
    {
     "data": {
      "text/plain": [
       "'Toy Story 3 (2010)'"
      ]
     },
     "metadata": {},
     "output_type": "display_data"
    },
    {
     "data": {
      "text/plain": [
       "'Animation'"
      ]
     },
     "metadata": {},
     "output_type": "display_data"
    },
    {
     "data": {
      "text/plain": [
       "'Family'"
      ]
     },
     "metadata": {},
     "output_type": "display_data"
    },
    {
     "data": {
      "text/plain": [
       "'Comedy'"
      ]
     },
     "metadata": {},
     "output_type": "display_data"
    },
    {
     "data": {
      "text/plain": [
       "'Finding Nemo (2003)'"
      ]
     },
     "metadata": {},
     "output_type": "display_data"
    },
    {
     "data": {
      "text/plain": [
       "'Animation'"
      ]
     },
     "metadata": {},
     "output_type": "display_data"
    },
    {
     "data": {
      "text/plain": [
       "'Family'"
      ]
     },
     "metadata": {},
     "output_type": "display_data"
    },
    {
     "data": {
      "text/plain": [
       "'Incredibles, The (2004)'"
      ]
     },
     "metadata": {},
     "output_type": "display_data"
    },
    {
     "data": {
      "text/plain": [
       "'Action'"
      ]
     },
     "metadata": {},
     "output_type": "display_data"
    },
    {
     "data": {
      "text/plain": [
       "'Adventure'"
      ]
     },
     "metadata": {},
     "output_type": "display_data"
    },
    {
     "data": {
      "text/plain": [
       "'Animation'"
      ]
     },
     "metadata": {},
     "output_type": "display_data"
    },
    {
     "data": {
      "text/plain": [
       "'Family'"
      ]
     },
     "metadata": {},
     "output_type": "display_data"
    },
    {
     "data": {
      "text/plain": [
       "'Shrek (2001)'"
      ]
     },
     "metadata": {},
     "output_type": "display_data"
    },
    {
     "data": {
      "text/plain": [
       "'Adventure'"
      ]
     },
     "metadata": {},
     "output_type": "display_data"
    },
    {
     "data": {
      "text/plain": [
       "'Animation'"
      ]
     },
     "metadata": {},
     "output_type": "display_data"
    },
    {
     "data": {
      "text/plain": [
       "'Comedy'"
      ]
     },
     "metadata": {},
     "output_type": "display_data"
    },
    {
     "data": {
      "text/plain": [
       "'Family'"
      ]
     },
     "metadata": {},
     "output_type": "display_data"
    },
    {
     "data": {
      "text/plain": [
       "'Fantasy'"
      ]
     },
     "metadata": {},
     "output_type": "display_data"
    },
    {
     "data": {
      "text/plain": [
       "'Willy Wonka & the Chocolate Factory (1971)'"
      ]
     },
     "metadata": {},
     "output_type": "display_data"
    },
    {
     "data": {
      "text/plain": [
       "'Music'"
      ]
     },
     "metadata": {},
     "output_type": "display_data"
    },
    {
     "data": {
      "text/plain": [
       "'Family'"
      ]
     },
     "metadata": {},
     "output_type": "display_data"
    },
    {
     "data": {
      "text/plain": [
       "'Fantasy'"
      ]
     },
     "metadata": {},
     "output_type": "display_data"
    },
    {
     "data": {
      "text/plain": [
       "'Comedy'"
      ]
     },
     "metadata": {},
     "output_type": "display_data"
    },
    {
     "data": {
      "text/plain": [
       "'Dark Knight, The (2008)'"
      ]
     },
     "metadata": {},
     "output_type": "display_data"
    },
    {
     "data": {
      "text/plain": [
       "'Drama'"
      ]
     },
     "metadata": {},
     "output_type": "display_data"
    },
    {
     "data": {
      "text/plain": [
       "'Action'"
      ]
     },
     "metadata": {},
     "output_type": "display_data"
    },
    {
     "data": {
      "text/plain": [
       "'Crime'"
      ]
     },
     "metadata": {},
     "output_type": "display_data"
    },
    {
     "data": {
      "text/plain": [
       "'Thriller'"
      ]
     },
     "metadata": {},
     "output_type": "display_data"
    },
    {
     "data": {
      "text/plain": [
       "'Monsters, Inc. (2001)'"
      ]
     },
     "metadata": {},
     "output_type": "display_data"
    },
    {
     "data": {
      "text/plain": [
       "'Animation'"
      ]
     },
     "metadata": {},
     "output_type": "display_data"
    },
    {
     "data": {
      "text/plain": [
       "'Comedy'"
      ]
     },
     "metadata": {},
     "output_type": "display_data"
    },
    {
     "data": {
      "text/plain": [
       "'Family'"
      ]
     },
     "metadata": {},
     "output_type": "display_data"
    },
    {
     "data": {
      "text/plain": [
       "'Sin City (2005)'"
      ]
     },
     "metadata": {},
     "output_type": "display_data"
    },
    {
     "data": {
      "text/plain": [
       "'Action'"
      ]
     },
     "metadata": {},
     "output_type": "display_data"
    },
    {
     "data": {
      "text/plain": [
       "'Thriller'"
      ]
     },
     "metadata": {},
     "output_type": "display_data"
    },
    {
     "data": {
      "text/plain": [
       "'Crime'"
      ]
     },
     "metadata": {},
     "output_type": "display_data"
    },
    {
     "data": {
      "text/plain": [
       "'Science Fiction'"
      ]
     },
     "metadata": {},
     "output_type": "display_data"
    },
    {
     "data": {
      "text/html": [
       "<table>                <tr>                 <td><table><tr><td>Toy Story 2 (1999)</td></tr><tr><td><img src=https://image.tmdb.org/t/p/w200/3CmK3XurcLeUyMifCR28ibzupbB.jpg></td></tr></table></td>                <td><table><tr><td>Bug's Life, A (1998)</td></tr><tr><td><img src=https://image.tmdb.org/t/p/w200/u9qGMRwcPwP0WETxulS5hKUsEum.jpg></td></tr></table></td>                <td><table><tr><td>Toy Story 3 (2010)</td></tr><tr><td><img src=https://image.tmdb.org/t/p/w200/mMltbSxwEdNE4Cv8QYLpzkHWTDo.jpg></td></tr></table></td>                <td><table><tr><td>Finding Nemo (2003)</td></tr><tr><td><img src=https://image.tmdb.org/t/p/w200/syPWyeeqzTQIxjIUaIFI7d0TyEY.jpg></td></tr></table></td>                <td><table><tr><td>Incredibles, The (2004)</td></tr><tr><td><img src=https://image.tmdb.org/t/p/w200/2LqaLgk4Z226KkgPJuiOQ58wvrm.jpg></td></tr></table></td>                </tr>                 <tr>                 <td><table><tr><td>Shrek (2001)</td></tr><tr><td><img src=https://image.tmdb.org/t/p/w200/140ewbWv8qHStD3mlBDvvGd0Zvu.jpg ></td></tr></table></td>                <td><table><tr><td>Willy Wonka & the Chocolate Factory (1971)</td></tr><tr><td><img src=https://image.tmdb.org/t/p/w200/b94qXd1FcIwgzv0NYMUe2bjrzJR.jpg ></td></tr></table></td>                <td><table><tr><td>Dark Knight, The (2008)</td></tr><tr><td><img src=https://image.tmdb.org/t/p/w200/1hRoyzDtpgMU7Dz4JF22RANzQO7.jpg ></td></tr></table></td>                <td><table><tr><td>Monsters, Inc. (2001)</td></tr><tr><td><img src=https://image.tmdb.org/t/p/w200/93Y9BGx8blzmZOPSoivkFfaifqU.jpg ></td></tr></table></td>                <td><table><tr><td>Sin City (2005)</td></tr><tr><td><img src=https://image.tmdb.org/t/p/w200/vKJVGOKPyWqp9d2EX5NH1liqRqR.jpg ></td></tr></table></td>                </tr>                </table>"
      ],
      "text/plain": [
       "<IPython.core.display.HTML object>"
      ]
     },
     "metadata": {},
     "output_type": "display_data"
    }
   ],
   "source": [
    "print('KNN com Pearson ---> TOP 10 filmes mais similares a Toy Story:')\n",
    "visualizar_sim('Toy Story (1995)', 10)"
   ]
  },
  {
   "cell_type": "markdown",
   "metadata": {},
   "source": [
    "**K-Nearest Neighbour com Similaridade Cosseno**"
   ]
  },
  {
   "cell_type": "code",
   "execution_count": 54,
   "metadata": {},
   "outputs": [
    {
     "name": "stdout",
     "output_type": "stream",
     "text": [
      "Estimating biases using als...\n",
      "Computing the cosine similarity matrix...\n",
      "Done computing similarity matrix.\n"
     ]
    },
    {
     "data": {
      "text/plain": [
       "<surprise.prediction_algorithms.knns.KNNBaseline at 0x239cd892dd8>"
      ]
     },
     "execution_count": 54,
     "metadata": {},
     "output_type": "execute_result"
    }
   ],
   "source": [
    "reader = Reader(rating_scale=(1, 5))\n",
    "data = Dataset.load_from_df(df_ratings[['userId', 'movieId','rating']], reader)\n",
    "\n",
    "sim_options = {'name': 'cosine','min_support': 5,'user_based': False}\n",
    "bsl_options = {'method': 'als',\n",
    "               'n_epochs': 5,\n",
    "               'reg': 1,\n",
    "               }\n",
    "algo = KNNBaseline(k=3, sim_options=sim_options, bsl_options=bsl_options)\n",
    "trainset = data.build_full_trainset()\n",
    "algo.fit(trainset)\n"
   ]
  },
  {
   "cell_type": "code",
   "execution_count": 55,
   "metadata": {
    "scrolled": false
   },
   "outputs": [
    {
     "name": "stdout",
     "output_type": "stream",
     "text": [
      "Similaridade Cosseno ---> TOP 10 filmes similares a Toy Story:\n"
     ]
    },
    {
     "data": {
      "text/plain": [
       "'Born into Brothels (2004)'"
      ]
     },
     "metadata": {},
     "output_type": "display_data"
    },
    {
     "data": {
      "text/plain": [
       "'Documentary'"
      ]
     },
     "metadata": {},
     "output_type": "display_data"
    },
    {
     "data": {
      "text/plain": [
       "'Days of Wine and Roses (1962)'"
      ]
     },
     "metadata": {},
     "output_type": "display_data"
    },
    {
     "data": {
      "text/plain": [
       "'Drama'"
      ]
     },
     "metadata": {},
     "output_type": "display_data"
    },
    {
     "data": {
      "text/plain": [
       "'Romance'"
      ]
     },
     "metadata": {},
     "output_type": "display_data"
    },
    {
     "data": {
      "text/plain": [
       "\"It's Kind of a Funny Story (2010)\""
      ]
     },
     "metadata": {},
     "output_type": "display_data"
    },
    {
     "data": {
      "text/plain": [
       "'Comedy'"
      ]
     },
     "metadata": {},
     "output_type": "display_data"
    },
    {
     "data": {
      "text/plain": [
       "'Drama'"
      ]
     },
     "metadata": {},
     "output_type": "display_data"
    },
    {
     "data": {
      "text/plain": [
       "\"World's Fastest Indian, The (2005)\""
      ]
     },
     "metadata": {},
     "output_type": "display_data"
    },
    {
     "data": {
      "text/plain": [
       "'Drama'"
      ]
     },
     "metadata": {},
     "output_type": "display_data"
    },
    {
     "data": {
      "text/plain": [
       "'Shop Around the Corner, The (1940)'"
      ]
     },
     "metadata": {},
     "output_type": "display_data"
    },
    {
     "data": {
      "text/plain": [
       "'Comedy'"
      ]
     },
     "metadata": {},
     "output_type": "display_data"
    },
    {
     "data": {
      "text/plain": [
       "'Romance'"
      ]
     },
     "metadata": {},
     "output_type": "display_data"
    },
    {
     "data": {
      "text/plain": [
       "'Lady Vanishes, The (1938)'"
      ]
     },
     "metadata": {},
     "output_type": "display_data"
    },
    {
     "data": {
      "text/plain": [
       "'Mystery'"
      ]
     },
     "metadata": {},
     "output_type": "display_data"
    },
    {
     "data": {
      "text/plain": [
       "'Thriller'"
      ]
     },
     "metadata": {},
     "output_type": "display_data"
    },
    {
     "data": {
      "text/plain": [
       "'Lean on Me (1989)'"
      ]
     },
     "metadata": {},
     "output_type": "display_data"
    },
    {
     "data": {
      "text/plain": [
       "'Drama'"
      ]
     },
     "metadata": {},
     "output_type": "display_data"
    },
    {
     "data": {
      "text/plain": [
       "'Muppets From Space (1999)'"
      ]
     },
     "metadata": {},
     "output_type": "display_data"
    },
    {
     "data": {
      "text/plain": [
       "'Fantasy'"
      ]
     },
     "metadata": {},
     "output_type": "display_data"
    },
    {
     "data": {
      "text/plain": [
       "'Comedy'"
      ]
     },
     "metadata": {},
     "output_type": "display_data"
    },
    {
     "data": {
      "text/plain": [
       "'Science Fiction'"
      ]
     },
     "metadata": {},
     "output_type": "display_data"
    },
    {
     "data": {
      "text/plain": [
       "'Family'"
      ]
     },
     "metadata": {},
     "output_type": "display_data"
    },
    {
     "data": {
      "text/plain": [
       "'Green Hornet, The (2011)'"
      ]
     },
     "metadata": {},
     "output_type": "display_data"
    },
    {
     "data": {
      "text/plain": [
       "'Action'"
      ]
     },
     "metadata": {},
     "output_type": "display_data"
    },
    {
     "data": {
      "text/plain": [
       "'Crime'"
      ]
     },
     "metadata": {},
     "output_type": "display_data"
    },
    {
     "data": {
      "text/plain": [
       "'Comedy'"
      ]
     },
     "metadata": {},
     "output_type": "display_data"
    },
    {
     "data": {
      "text/plain": [
       "'I Love You, Man (2009)'"
      ]
     },
     "metadata": {},
     "output_type": "display_data"
    },
    {
     "data": {
      "text/plain": [
       "'Comedy'"
      ]
     },
     "metadata": {},
     "output_type": "display_data"
    },
    {
     "data": {
      "text/html": [
       "<table>                <tr>                 <td><table><tr><td>Born into Brothels (2004)</td></tr><tr><td><img src=https://image.tmdb.org/t/p/w200/gteL79uWvdec9Me0mCNHxI1kZdn.jpg></td></tr></table></td>                <td><table><tr><td>Days of Wine and Roses (1962)</td></tr><tr><td><img src=https://image.tmdb.org/t/p/w200/zVbL3eVcN90J7FzQfdTNW2UZfp0.jpg></td></tr></table></td>                <td><table><tr><td>It's Kind of a Funny Story (2010)</td></tr><tr><td><img src=https://image.tmdb.org/t/p/w200/wADblWdHMk2SIaZRBazTGOTBf4w.jpg></td></tr></table></td>                <td><table><tr><td>World's Fastest Indian, The (2005)</td></tr><tr><td><img src=https://image.tmdb.org/t/p/w200/h3xDXEEjppiyuRtMv6Cy5bcMTrG.jpg></td></tr></table></td>                <td><table><tr><td>Shop Around the Corner, The (1940)</td></tr><tr><td><img src=https://image.tmdb.org/t/p/w200/avHj8x3T21dYIGrnx55I57PxdEo.jpg></td></tr></table></td>                </tr>                 <tr>                 <td><table><tr><td>Lady Vanishes, The (1938)</td></tr><tr><td><img src=https://image.tmdb.org/t/p/w200/edL8YmyR1BjICz3mp1fhUqSOPnF.jpg ></td></tr></table></td>                <td><table><tr><td>Lean on Me (1989)</td></tr><tr><td><img src=https://image.tmdb.org/t/p/w200/oFGnvc58Ashxfbp3HDFhhlSGT0W.jpg ></td></tr></table></td>                <td><table><tr><td>Muppets From Space (1999)</td></tr><tr><td><img src=https://image.tmdb.org/t/p/w200/zhiHQIgLSfII3ynPg2LRc1ZBrAE.jpg ></td></tr></table></td>                <td><table><tr><td>Green Hornet, The (2011)</td></tr><tr><td><img src=https://image.tmdb.org/t/p/w200/hZvTFnyqiTiQDO1FRsQvwhFNg3G.jpg ></td></tr></table></td>                <td><table><tr><td>I Love You, Man (2009)</td></tr><tr><td><img src=https://image.tmdb.org/t/p/w200/gFL5cazCOhgsoO2mQuYPMdFekfE.jpg ></td></tr></table></td>                </tr>                </table>"
      ],
      "text/plain": [
       "<IPython.core.display.HTML object>"
      ]
     },
     "metadata": {},
     "output_type": "display_data"
    }
   ],
   "source": [
    "print('Similaridade Cosseno ---> TOP 10 filmes similares a Toy Story:')\n",
    "visualizar_sim('Toy Story (1995)', 10)"
   ]
  },
  {
   "cell_type": "code",
   "execution_count": 71,
   "metadata": {},
   "outputs": [
    {
     "name": "stdout",
     "output_type": "stream",
     "text": [
      "Estimating biases using sgd...\n",
      "Computing the pearson_baseline similarity matrix...\n",
      "Done computing similarity matrix.\n"
     ]
    },
    {
     "data": {
      "text/plain": [
       "<surprise.prediction_algorithms.knns.KNNBaseline at 0x23981224e10>"
      ]
     },
     "execution_count": 71,
     "metadata": {},
     "output_type": "execute_result"
    }
   ],
   "source": [
    "# Carregando os dados de df_ratings na biblioteca Surprise\n",
    "reader = Reader(rating_scale=(1, 5))\n",
    "data = Dataset.load_from_df(df_ratings[['userId', 'movieId','rating']], reader)\n",
    "\n",
    "# ajustando os parâmetros e definindo no algoritmo KNN\n",
    "# desta vez utilizando SGD\n",
    "sim_options = {'name': 'pearson_baseline','min_support': 5,'user_based': False}\n",
    "bsl_options = {'method': 'sgd',\n",
    "               'n_epochs': 5,\n",
    "               'reg': 1,\n",
    "               }\n",
    "algo = KNNBaseline(k=3, sim_options=sim_options, bsl_options=bsl_options)\n",
    "\n",
    "# treinando o conjunto de dados\n",
    "trainset = data.build_full_trainset()\n",
    "algo.fit(trainset)"
   ]
  },
  {
   "cell_type": "markdown",
   "metadata": {},
   "source": [
    "**Utilizando KNN com Descida de Gradiente Estocástico e Coeficiente de Correlação de Pearson**"
   ]
  },
  {
   "cell_type": "code",
   "execution_count": 72,
   "metadata": {
    "scrolled": false
   },
   "outputs": [
    {
     "name": "stdout",
     "output_type": "stream",
     "text": [
      "KNN com Pearson ---> TOP 10 filmes mais similares a Toy Story:\n"
     ]
    },
    {
     "data": {
      "text/plain": [
       "'Toy Story 2 (1999)'"
      ]
     },
     "metadata": {},
     "output_type": "display_data"
    },
    {
     "data": {
      "text/plain": [
       "'Animation'"
      ]
     },
     "metadata": {},
     "output_type": "display_data"
    },
    {
     "data": {
      "text/plain": [
       "'Comedy'"
      ]
     },
     "metadata": {},
     "output_type": "display_data"
    },
    {
     "data": {
      "text/plain": [
       "'Family'"
      ]
     },
     "metadata": {},
     "output_type": "display_data"
    },
    {
     "data": {
      "text/plain": [
       "\"Bug's Life, A (1998)\""
      ]
     },
     "metadata": {},
     "output_type": "display_data"
    },
    {
     "data": {
      "text/plain": [
       "'Adventure'"
      ]
     },
     "metadata": {},
     "output_type": "display_data"
    },
    {
     "data": {
      "text/plain": [
       "'Animation'"
      ]
     },
     "metadata": {},
     "output_type": "display_data"
    },
    {
     "data": {
      "text/plain": [
       "'Comedy'"
      ]
     },
     "metadata": {},
     "output_type": "display_data"
    },
    {
     "data": {
      "text/plain": [
       "'Family'"
      ]
     },
     "metadata": {},
     "output_type": "display_data"
    },
    {
     "data": {
      "text/plain": [
       "'Monsters, Inc. (2001)'"
      ]
     },
     "metadata": {},
     "output_type": "display_data"
    },
    {
     "data": {
      "text/plain": [
       "'Animation'"
      ]
     },
     "metadata": {},
     "output_type": "display_data"
    },
    {
     "data": {
      "text/plain": [
       "'Comedy'"
      ]
     },
     "metadata": {},
     "output_type": "display_data"
    },
    {
     "data": {
      "text/plain": [
       "'Family'"
      ]
     },
     "metadata": {},
     "output_type": "display_data"
    },
    {
     "data": {
      "text/plain": [
       "'Lion King, The (1994)'"
      ]
     },
     "metadata": {},
     "output_type": "display_data"
    },
    {
     "data": {
      "text/plain": [
       "'Family'"
      ]
     },
     "metadata": {},
     "output_type": "display_data"
    },
    {
     "data": {
      "text/plain": [
       "'Animation'"
      ]
     },
     "metadata": {},
     "output_type": "display_data"
    },
    {
     "data": {
      "text/plain": [
       "'Drama'"
      ]
     },
     "metadata": {},
     "output_type": "display_data"
    },
    {
     "data": {
      "text/plain": [
       "'Finding Nemo (2003)'"
      ]
     },
     "metadata": {},
     "output_type": "display_data"
    },
    {
     "data": {
      "text/plain": [
       "'Animation'"
      ]
     },
     "metadata": {},
     "output_type": "display_data"
    },
    {
     "data": {
      "text/plain": [
       "'Family'"
      ]
     },
     "metadata": {},
     "output_type": "display_data"
    },
    {
     "data": {
      "text/plain": [
       "'Shrek (2001)'"
      ]
     },
     "metadata": {},
     "output_type": "display_data"
    },
    {
     "data": {
      "text/plain": [
       "'Adventure'"
      ]
     },
     "metadata": {},
     "output_type": "display_data"
    },
    {
     "data": {
      "text/plain": [
       "'Animation'"
      ]
     },
     "metadata": {},
     "output_type": "display_data"
    },
    {
     "data": {
      "text/plain": [
       "'Comedy'"
      ]
     },
     "metadata": {},
     "output_type": "display_data"
    },
    {
     "data": {
      "text/plain": [
       "'Family'"
      ]
     },
     "metadata": {},
     "output_type": "display_data"
    },
    {
     "data": {
      "text/plain": [
       "'Fantasy'"
      ]
     },
     "metadata": {},
     "output_type": "display_data"
    },
    {
     "data": {
      "text/plain": [
       "'Incredibles, The (2004)'"
      ]
     },
     "metadata": {},
     "output_type": "display_data"
    },
    {
     "data": {
      "text/plain": [
       "'Action'"
      ]
     },
     "metadata": {},
     "output_type": "display_data"
    },
    {
     "data": {
      "text/plain": [
       "'Adventure'"
      ]
     },
     "metadata": {},
     "output_type": "display_data"
    },
    {
     "data": {
      "text/plain": [
       "'Animation'"
      ]
     },
     "metadata": {},
     "output_type": "display_data"
    },
    {
     "data": {
      "text/plain": [
       "'Family'"
      ]
     },
     "metadata": {},
     "output_type": "display_data"
    },
    {
     "data": {
      "text/plain": [
       "'Toy Story 3 (2010)'"
      ]
     },
     "metadata": {},
     "output_type": "display_data"
    },
    {
     "data": {
      "text/plain": [
       "'Animation'"
      ]
     },
     "metadata": {},
     "output_type": "display_data"
    },
    {
     "data": {
      "text/plain": [
       "'Family'"
      ]
     },
     "metadata": {},
     "output_type": "display_data"
    },
    {
     "data": {
      "text/plain": [
       "'Comedy'"
      ]
     },
     "metadata": {},
     "output_type": "display_data"
    },
    {
     "data": {
      "text/plain": [
       "'Aladdin (1992)'"
      ]
     },
     "metadata": {},
     "output_type": "display_data"
    },
    {
     "data": {
      "text/plain": [
       "'Animation'"
      ]
     },
     "metadata": {},
     "output_type": "display_data"
    },
    {
     "data": {
      "text/plain": [
       "'Family'"
      ]
     },
     "metadata": {},
     "output_type": "display_data"
    },
    {
     "data": {
      "text/plain": [
       "'Comedy'"
      ]
     },
     "metadata": {},
     "output_type": "display_data"
    },
    {
     "data": {
      "text/plain": [
       "'Adventure'"
      ]
     },
     "metadata": {},
     "output_type": "display_data"
    },
    {
     "data": {
      "text/plain": [
       "'Fantasy'"
      ]
     },
     "metadata": {},
     "output_type": "display_data"
    },
    {
     "data": {
      "text/plain": [
       "'Romance'"
      ]
     },
     "metadata": {},
     "output_type": "display_data"
    },
    {
     "data": {
      "text/plain": [
       "'Willy Wonka & the Chocolate Factory (1971)'"
      ]
     },
     "metadata": {},
     "output_type": "display_data"
    },
    {
     "data": {
      "text/plain": [
       "'Music'"
      ]
     },
     "metadata": {},
     "output_type": "display_data"
    },
    {
     "data": {
      "text/plain": [
       "'Family'"
      ]
     },
     "metadata": {},
     "output_type": "display_data"
    },
    {
     "data": {
      "text/plain": [
       "'Fantasy'"
      ]
     },
     "metadata": {},
     "output_type": "display_data"
    },
    {
     "data": {
      "text/plain": [
       "'Comedy'"
      ]
     },
     "metadata": {},
     "output_type": "display_data"
    },
    {
     "data": {
      "text/html": [
       "<table>                <tr>                 <td><table><tr><td>Toy Story 2 (1999)</td></tr><tr><td><img src=https://image.tmdb.org/t/p/w200/3CmK3XurcLeUyMifCR28ibzupbB.jpg></td></tr></table></td>                <td><table><tr><td>Bug's Life, A (1998)</td></tr><tr><td><img src=https://image.tmdb.org/t/p/w200/u9qGMRwcPwP0WETxulS5hKUsEum.jpg></td></tr></table></td>                <td><table><tr><td>Monsters, Inc. (2001)</td></tr><tr><td><img src=https://image.tmdb.org/t/p/w200/93Y9BGx8blzmZOPSoivkFfaifqU.jpg></td></tr></table></td>                <td><table><tr><td>Lion King, The (1994)</td></tr><tr><td><img src=https://image.tmdb.org/t/p/w200/bKPtXn9n4M4s8vvZrbw40mYsefB.jpg></td></tr></table></td>                <td><table><tr><td>Finding Nemo (2003)</td></tr><tr><td><img src=https://image.tmdb.org/t/p/w200/syPWyeeqzTQIxjIUaIFI7d0TyEY.jpg></td></tr></table></td>                </tr>                 <tr>                 <td><table><tr><td>Shrek (2001)</td></tr><tr><td><img src=https://image.tmdb.org/t/p/w200/140ewbWv8qHStD3mlBDvvGd0Zvu.jpg ></td></tr></table></td>                <td><table><tr><td>Incredibles, The (2004)</td></tr><tr><td><img src=https://image.tmdb.org/t/p/w200/2LqaLgk4Z226KkgPJuiOQ58wvrm.jpg ></td></tr></table></td>                <td><table><tr><td>Toy Story 3 (2010)</td></tr><tr><td><img src=https://image.tmdb.org/t/p/w200/mMltbSxwEdNE4Cv8QYLpzkHWTDo.jpg ></td></tr></table></td>                <td><table><tr><td>Aladdin (1992)</td></tr><tr><td><img src=https://image.tmdb.org/t/p/w200/7f53XAE4nPiGe9XprpGAeWHuKPw.jpg ></td></tr></table></td>                <td><table><tr><td>Willy Wonka & the Chocolate Factory (1971)</td></tr><tr><td><img src=https://image.tmdb.org/t/p/w200/b94qXd1FcIwgzv0NYMUe2bjrzJR.jpg ></td></tr></table></td>                </tr>                </table>"
      ],
      "text/plain": [
       "<IPython.core.display.HTML object>"
      ]
     },
     "metadata": {},
     "output_type": "display_data"
    }
   ],
   "source": [
    "print('KNN com Pearson ---> TOP 10 filmes mais similares a Toy Story:')\n",
    "visualizar_sim('Toy Story (1995)', 10)"
   ]
  },
  {
   "cell_type": "markdown",
   "metadata": {},
   "source": [
    "**Validando a recomendação usando outro filme com os parâmetros SGD e Coeficiente de Correlação de Pearson**"
   ]
  },
  {
   "cell_type": "code",
   "execution_count": 75,
   "metadata": {
    "slideshow": {
     "slide_type": "-"
    }
   },
   "outputs": [
    {
     "name": "stdout",
     "output_type": "stream",
     "text": [
      "KNN com Pearson ---> TOP 10 filmes mais similares a Lord of the Rings: The Fellowship of the Ring:\n"
     ]
    },
    {
     "data": {
      "text/plain": [
       "'Lord of the Rings: The Two Towers, The (2002)'"
      ]
     },
     "metadata": {},
     "output_type": "display_data"
    },
    {
     "data": {
      "text/plain": [
       "'Adventure'"
      ]
     },
     "metadata": {},
     "output_type": "display_data"
    },
    {
     "data": {
      "text/plain": [
       "'Fantasy'"
      ]
     },
     "metadata": {},
     "output_type": "display_data"
    },
    {
     "data": {
      "text/plain": [
       "'Action'"
      ]
     },
     "metadata": {},
     "output_type": "display_data"
    },
    {
     "data": {
      "text/plain": [
       "'Lord of the Rings: The Return of the King, The (2003)'"
      ]
     },
     "metadata": {},
     "output_type": "display_data"
    },
    {
     "data": {
      "text/plain": [
       "'Adventure'"
      ]
     },
     "metadata": {},
     "output_type": "display_data"
    },
    {
     "data": {
      "text/plain": [
       "'Fantasy'"
      ]
     },
     "metadata": {},
     "output_type": "display_data"
    },
    {
     "data": {
      "text/plain": [
       "'Action'"
      ]
     },
     "metadata": {},
     "output_type": "display_data"
    },
    {
     "data": {
      "text/plain": [
       "'Star Wars: Episode VI - Return of the Jedi (1983)'"
      ]
     },
     "metadata": {},
     "output_type": "display_data"
    },
    {
     "data": {
      "text/plain": [
       "'Adventure'"
      ]
     },
     "metadata": {},
     "output_type": "display_data"
    },
    {
     "data": {
      "text/plain": [
       "'Action'"
      ]
     },
     "metadata": {},
     "output_type": "display_data"
    },
    {
     "data": {
      "text/plain": [
       "'Science Fiction'"
      ]
     },
     "metadata": {},
     "output_type": "display_data"
    },
    {
     "data": {
      "text/plain": [
       "'Star Wars: Episode IV - A New Hope (1977)'"
      ]
     },
     "metadata": {},
     "output_type": "display_data"
    },
    {
     "data": {
      "text/plain": [
       "'Adventure'"
      ]
     },
     "metadata": {},
     "output_type": "display_data"
    },
    {
     "data": {
      "text/plain": [
       "'Action'"
      ]
     },
     "metadata": {},
     "output_type": "display_data"
    },
    {
     "data": {
      "text/plain": [
       "'Science Fiction'"
      ]
     },
     "metadata": {},
     "output_type": "display_data"
    },
    {
     "data": {
      "text/plain": [
       "'Matrix, The (1999)'"
      ]
     },
     "metadata": {},
     "output_type": "display_data"
    },
    {
     "data": {
      "text/plain": [
       "'Action'"
      ]
     },
     "metadata": {},
     "output_type": "display_data"
    },
    {
     "data": {
      "text/plain": [
       "'Science Fiction'"
      ]
     },
     "metadata": {},
     "output_type": "display_data"
    },
    {
     "data": {
      "text/plain": [
       "'Raiders of the Lost Ark (Indiana Jones and the Raiders of the Lost Ark) (1981)'"
      ]
     },
     "metadata": {},
     "output_type": "display_data"
    },
    {
     "data": {
      "text/plain": [
       "'Adventure'"
      ]
     },
     "metadata": {},
     "output_type": "display_data"
    },
    {
     "data": {
      "text/plain": [
       "'Action'"
      ]
     },
     "metadata": {},
     "output_type": "display_data"
    },
    {
     "data": {
      "text/plain": [
       "'Star Wars: Episode V - The Empire Strikes Back (1980)'"
      ]
     },
     "metadata": {},
     "output_type": "display_data"
    },
    {
     "data": {
      "text/plain": [
       "'Adventure'"
      ]
     },
     "metadata": {},
     "output_type": "display_data"
    },
    {
     "data": {
      "text/plain": [
       "'Action'"
      ]
     },
     "metadata": {},
     "output_type": "display_data"
    },
    {
     "data": {
      "text/plain": [
       "'Science Fiction'"
      ]
     },
     "metadata": {},
     "output_type": "display_data"
    },
    {
     "data": {
      "text/plain": [
       "'Gladiator (2000)'"
      ]
     },
     "metadata": {},
     "output_type": "display_data"
    },
    {
     "data": {
      "text/plain": [
       "'Action'"
      ]
     },
     "metadata": {},
     "output_type": "display_data"
    },
    {
     "data": {
      "text/plain": [
       "'Drama'"
      ]
     },
     "metadata": {},
     "output_type": "display_data"
    },
    {
     "data": {
      "text/plain": [
       "'Adventure'"
      ]
     },
     "metadata": {},
     "output_type": "display_data"
    },
    {
     "data": {
      "text/plain": [
       "'Fight Club (1999)'"
      ]
     },
     "metadata": {},
     "output_type": "display_data"
    },
    {
     "data": {
      "text/plain": [
       "'Drama'"
      ]
     },
     "metadata": {},
     "output_type": "display_data"
    },
    {
     "data": {
      "text/plain": [
       "'Die Hard (1988)'"
      ]
     },
     "metadata": {},
     "output_type": "display_data"
    },
    {
     "data": {
      "text/plain": [
       "'Action'"
      ]
     },
     "metadata": {},
     "output_type": "display_data"
    },
    {
     "data": {
      "text/plain": [
       "'Thriller'"
      ]
     },
     "metadata": {},
     "output_type": "display_data"
    },
    {
     "data": {
      "text/html": [
       "<table>                <tr>                 <td><table><tr><td>Lord of the Rings: The Two Towers, The (2002)</td></tr><tr><td><img src=https://image.tmdb.org/t/p/w200/5VTN0pR8gcqV3EPUHHfMGnJYN9L.jpg></td></tr></table></td>                <td><table><tr><td>Lord of the Rings: The Return of the King, The (2003)</td></tr><tr><td><img src=https://image.tmdb.org/t/p/w200/rCzpDGLbOoPwLjy3OAm5NUPOTrC.jpg></td></tr></table></td>                <td><table><tr><td>Star Wars: Episode VI - Return of the Jedi (1983)</td></tr><tr><td><img src=https://image.tmdb.org/t/p/w200/lrJWyjOVjPhghl4KyAMtOepAxs.jpg></td></tr></table></td>                <td><table><tr><td>Star Wars: Episode IV - A New Hope (1977)</td></tr><tr><td><img src=https://image.tmdb.org/t/p/w200/btTdmkgIvOi0FFip1sPuZI2oQG6.jpg></td></tr></table></td>                <td><table><tr><td>Matrix, The (1999)</td></tr><tr><td><img src=https://image.tmdb.org/t/p/w200/hEpWvX6Bp79eLxY1kX5ZZJcme5U.jpg></td></tr></table></td>                </tr>                 <tr>                 <td><table><tr><td>Raiders of the Lost Ark (Indiana Jones and the Raiders of the Lost Ark) (1981)</td></tr><tr><td><img src=https://image.tmdb.org/t/p/w200/44sKJOGP3fTm4QXBcIuqu0RkdP7.jpg ></td></tr></table></td>                <td><table><tr><td>Star Wars: Episode V - The Empire Strikes Back (1980)</td></tr><tr><td><img src=https://image.tmdb.org/t/p/w200/9SKDSFbaM6LuGqG1aPWN3wYGEyD.jpg ></td></tr></table></td>                <td><table><tr><td>Gladiator (2000)</td></tr><tr><td><img src=https://image.tmdb.org/t/p/w200/6WBIzCgmDCYrqh64yDREGeDk9d3.jpg ></td></tr></table></td>                <td><table><tr><td>Fight Club (1999)</td></tr><tr><td><img src=https://image.tmdb.org/t/p/w200/adw6Lq9FiC9zjYEpOqfq03ituwp.jpg ></td></tr></table></td>                <td><table><tr><td>Die Hard (1988)</td></tr><tr><td><img src=https://image.tmdb.org/t/p/w200/mc7MubOLcIw3MDvnuQFrO9psfCa.jpg ></td></tr></table></td>                </tr>                </table>"
      ],
      "text/plain": [
       "<IPython.core.display.HTML object>"
      ]
     },
     "metadata": {},
     "output_type": "display_data"
    }
   ],
   "source": [
    "print('KNN com Pearson ---> TOP 10 filmes mais similares a Lord of the Rings: The Fellowship of the Ring:')\n",
    "visualizar_sim('Lord of the Rings: The Fellowship of the Ring, The (2001)', 10)"
   ]
  },
  {
   "cell_type": "markdown",
   "metadata": {},
   "source": [
    "## Implementação: Singular Value Decomposition (SVD) "
   ]
  },
  {
   "cell_type": "code",
   "execution_count": 7,
   "metadata": {
    "collapsed": true
   },
   "outputs": [],
   "source": [
    "# carregando o dataframe do pandas no Surprise\n",
    "reader = Reader(rating_scale=(1, 5))\n",
    "data = Dataset.load_from_df(df_ratings[['userId', 'movieId','rating']], reader)\n",
    "\n",
    "# Definindo os parâmetros e treinando o algoritmo\n",
    "#trainset = data.build_full_trainset()\n",
    "trainset, testset = train_test_split(data, test_size=0.25)\n",
    "algo = SVD(n_epochs= 30, lr_all= 0.005, reg_all= 0.1, biased=True)\n",
    "algo.fit(trainset)\n",
    "\n",
    "# predictions retorna uma tupla que contém todas as notas estimadas que\n",
    "# os usuários deram aos filmes\n",
    "svd_predictions = algo.test(testset)"
   ]
  },
  {
   "cell_type": "code",
   "execution_count": 8,
   "metadata": {},
   "outputs": [
    {
     "name": "stdout",
     "output_type": "stream",
     "text": [
      "Top 10 de filmes mais recomendados para o usuário 4\n",
      "Hustler White (1996)\n",
      "Romance\n",
      "Drop Dead Fred (1991)\n",
      "Comedy|Fantasy\n",
      "Frequency (2000)\n",
      "Drama|Thriller\n",
      "Anaconda (1997)\n",
      "Action|Adventure|Thriller\n",
      "Nowhere (1997)\n",
      "Comedy|Drama\n",
      "Daytrippers, The (1996)\n",
      "Comedy|Drama|Mystery|Romance\n",
      "Puppet Master II (1991)\n",
      "Horror|Sci-Fi|Thriller\n",
      "Kull the Conqueror (1997)\n",
      "Action|Adventure\n",
      "Loaded (1994)\n",
      "Drama|Thriller\n",
      "Soul Food (1997)\n",
      "Drama\n"
     ]
    }
   ],
   "source": [
    "# Esta função retira os valores uid e iid de predictions quando \n",
    "# fazemos as predições utilizando o testset. \n",
    "# uid corresponde ao userId e iid corresponde ao movieId.\n",
    "# OBS: Função encontrada no repositório do Github da biblioteca Surprise\n",
    "# https://github.com/NicolasHug/Surprise/blob/master/examples/top_n_recommendations.py\n",
    "\n",
    "def get_top_n(predictions, n=10):\n",
    "    top_n = defaultdict(list)\n",
    "    for uid, iid, true_r, est, _ in predictions:\n",
    "        top_n[uid].append((iid, est))\n",
    "        \n",
    "    for uid, user_ratings in top_n.items():\n",
    "        user_ratings.sort(key=lambda x: x[1], reverse=True)\n",
    "        top_n[uid] = user_ratings[:n]\n",
    "    return top_n\n",
    "\n",
    "top_n = get_top_n(svd_predictions, n=10)\n",
    "# ----------------------------------------------------------------------\n",
    "\n",
    "# Esta função tem como entrada o userId \n",
    "# e printa os nomes dos 10 filmes mais recomendados para este usuário\n",
    "# tem como retorno também a contagem dos gêneros dos filmes\n",
    "\n",
    "def best_recommended(userId):\n",
    "    print('Top 10 de filmes mais recomendados para o usuário {}'.format(userId))\n",
    "    from collections import Counter\n",
    "    count_genre = []\n",
    "    for n in range(10):\n",
    "        best = top_n[userId][n][0]\n",
    "        print (df_filmes.loc[best]['title'])\n",
    "        print (df_filmes.loc[best]['genres'])\n",
    "        best_genres = df_filmes.loc[best]['genres']\n",
    "        best_genre_split = best_genres.split('|')\n",
    "        count_genre += best_genre_split\n",
    "    return Counter(count_genre)\n",
    "\n",
    "count_genre = best_recommended(4) "
   ]
  },
  {
   "cell_type": "markdown",
   "metadata": {},
   "source": [
    "**Contando a quantidade de ocorrência de determinado gênero de filme entre os filmes que o usuário 4 gostou**"
   ]
  },
  {
   "cell_type": "code",
   "execution_count": 9,
   "metadata": {},
   "outputs": [
    {
     "name": "stdout",
     "output_type": "stream",
     "text": [
      "Usuário gostou anteriormente com nota 5:\n"
     ]
    },
    {
     "data": {
      "text/plain": [
       "Counter({'Action': 33,\n",
       "         'Adventure': 32,\n",
       "         'Animation': 19,\n",
       "         'Children': 30,\n",
       "         'Comedy': 50,\n",
       "         'Crime': 21,\n",
       "         'Documentary': 1,\n",
       "         'Drama': 35,\n",
       "         'Fantasy': 26,\n",
       "         'Film-Noir': 1,\n",
       "         'Horror': 8,\n",
       "         'IMAX': 1,\n",
       "         'Musical': 21,\n",
       "         'Mystery': 7,\n",
       "         'Romance': 16,\n",
       "         'Sci-Fi': 23,\n",
       "         'Thriller': 18,\n",
       "         'War': 3})"
      ]
     },
     "execution_count": 9,
     "metadata": {},
     "output_type": "execute_result"
    }
   ],
   "source": [
    "# Obtendo os filmes com nota 4.0 ou superior do usuário 4\n",
    "df_user_4 = df_ratings[(df_ratings['userId'] == 4) & (df_ratings['rating'] == 5.0)]['movieId']\n",
    "df_user_4 = list(df_user_4)\n",
    "genre_lst = []\n",
    "\n",
    "# concatenando os gêneros destes filmes em uma lista\n",
    "for index in range(len(df_user_4)):\n",
    "    get_movieid = df_user_4[index]\n",
    "    get_genres = df_filmes[df_filmes['movieId'] == get_movieid]['genres'].item()\n",
    "    genre_split = get_genres.split('|')\n",
    "    genre_lst += genre_split \n",
    "\n",
    "# importando a função Counter para contar a ocorrência de cada gênero presente na lista    \n",
    "from collections import Counter\n",
    "print(\"Usuário gostou anteriormente com nota 5:\")\n",
    "Counter(genre_lst)    "
   ]
  },
  {
   "cell_type": "code",
   "execution_count": 10,
   "metadata": {},
   "outputs": [
    {
     "name": "stdout",
     "output_type": "stream",
     "text": [
      "Verificar se a recomendação para o usuário 4 segue um padrão de gêneros:\n"
     ]
    },
    {
     "data": {
      "text/plain": [
       "Counter({'Action': 2,\n",
       "         'Adventure': 2,\n",
       "         'Comedy': 3,\n",
       "         'Drama': 5,\n",
       "         'Fantasy': 1,\n",
       "         'Horror': 1,\n",
       "         'Mystery': 1,\n",
       "         'Romance': 2,\n",
       "         'Sci-Fi': 1,\n",
       "         'Thriller': 4})"
      ]
     },
     "execution_count": 10,
     "metadata": {},
     "output_type": "execute_result"
    }
   ],
   "source": [
    "print('Verificar se a recomendação para o usuário 4 segue um padrão de gêneros:')\n",
    "count_genre"
   ]
  },
  {
   "cell_type": "markdown",
   "metadata": {},
   "source": [
    "**Reimplementação Após Avaliação**"
   ]
  },
  {
   "cell_type": "code",
   "execution_count": 11,
   "metadata": {
    "collapsed": true
   },
   "outputs": [],
   "source": [
    "# carregando o dataframe do pandas no Surprise\n",
    "reader = Reader(rating_scale=(1, 5))\n",
    "data = Dataset.load_from_df(df_ratings[['userId', 'movieId','rating']], reader)\n",
    "\n",
    "# Definindo os parâmetros e treinando o algoritmo\n",
    "#trainset = data.build_full_trainset()\n",
    "trainset, testset = train_test_split(data, test_size=0.25)\n",
    "#Este conjunto de parâmetros obteve RMSE: 0.97 MAE: 0.77\n",
    "algo = SVD(n_epochs= 1, lr_all= 0.005, reg_all= 0.8, biased=True)\n",
    "algo.fit(trainset)\n",
    "\n",
    "# predictions retorna uma tupla que contém todas as notas estimadas que\n",
    "# os usuários deram aos filmes\n",
    "svd_predictions = algo.test(testset)"
   ]
  },
  {
   "cell_type": "code",
   "execution_count": 12,
   "metadata": {},
   "outputs": [
    {
     "name": "stdout",
     "output_type": "stream",
     "text": [
      "Top 10 de filmes mais recomendados para o usuário 4\n",
      "Van, The (1996)\n",
      "Comedy|Drama\n",
      "Mirage (1995)\n",
      "Action|Thriller\n",
      "Crash (1996)\n",
      "Drama|Thriller\n",
      "Twin Town (1997)\n",
      "Comedy|Crime\n",
      "Nowhere (1997)\n",
      "Comedy|Drama\n",
      "Keys to Tulsa (1997)\n",
      "Crime\n",
      "Amityville Curse, The (1990)\n",
      "Horror\n",
      "Soul Food (1997)\n",
      "Drama\n",
      "Fly, The (1958)\n",
      "Horror|Mystery|Sci-Fi\n",
      "Frequency (2000)\n",
      "Drama|Thriller\n"
     ]
    }
   ],
   "source": [
    "top_n = get_top_n(svd_predictions, n=10)\n",
    "count_genre = best_recommended(4) "
   ]
  },
  {
   "cell_type": "code",
   "execution_count": 13,
   "metadata": {},
   "outputs": [
    {
     "name": "stdout",
     "output_type": "stream",
     "text": [
      "Verificar se a recomendação para o usuário 4 segue um padrão de gêneros:\n"
     ]
    },
    {
     "data": {
      "text/plain": [
       "Counter({'Action': 1,\n",
       "         'Comedy': 3,\n",
       "         'Crime': 2,\n",
       "         'Drama': 5,\n",
       "         'Horror': 2,\n",
       "         'Mystery': 1,\n",
       "         'Sci-Fi': 1,\n",
       "         'Thriller': 3})"
      ]
     },
     "execution_count": 13,
     "metadata": {},
     "output_type": "execute_result"
    }
   ],
   "source": [
    "print('Verificar se a recomendação para o usuário 4 segue um padrão de gêneros:')\n",
    "count_genre"
   ]
  },
  {
   "cell_type": "markdown",
   "metadata": {
    "collapsed": true
   },
   "source": [
    "## Resultados"
   ]
  },
  {
   "cell_type": "markdown",
   "metadata": {},
   "source": [
    "**Validação: SVD**"
   ]
  },
  {
   "cell_type": "markdown",
   "metadata": {},
   "source": [
    "Testes realizados com diferentes parâmetros utilizando os dados de teste. O comentário em cada célula são os parâmetros que utilizei no algoritmo SVD. Logo abaixo se encontra o resumo em uma tabela."
   ]
  },
  {
   "cell_type": "code",
   "execution_count": 25,
   "metadata": {
    "collapsed": true
   },
   "outputs": [],
   "source": [
    "def svd_accu(predictions):\n",
    "    svd_rmse = accuracy.rmse(predictions, verbose=True)\n",
    "    svd_mae = accuracy.mae(predictions, verbose=True)"
   ]
  },
  {
   "cell_type": "code",
   "execution_count": 175,
   "metadata": {},
   "outputs": [
    {
     "name": "stdout",
     "output_type": "stream",
     "text": [
      "RMSE: 0.9681\n",
      "MAE:  0.7645\n"
     ]
    }
   ],
   "source": [
    "# n_epochs= 1, lr_all= 0.005, reg_all= 0.65\n",
    "svd_accu(svd_predictions)"
   ]
  },
  {
   "cell_type": "code",
   "execution_count": 173,
   "metadata": {},
   "outputs": [
    {
     "name": "stdout",
     "output_type": "stream",
     "text": [
      "RMSE: 0.9049\n",
      "MAE:  0.6971\n"
     ]
    }
   ],
   "source": [
    "# n_epochs= 20, lr_all= 0.005, reg_all= 0.02\n",
    "svd_accu(svd_predictions)"
   ]
  },
  {
   "cell_type": "code",
   "execution_count": 199,
   "metadata": {},
   "outputs": [
    {
     "name": "stdout",
     "output_type": "stream",
     "text": [
      "RMSE: 0.9757\n",
      "MAE:  0.7705\n"
     ]
    }
   ],
   "source": [
    "# n_epochs= 1, lr_all= 0.005, reg_all= 0.8\n",
    "svd_accu(svd_predictions)"
   ]
  },
  {
   "cell_type": "code",
   "execution_count": 197,
   "metadata": {},
   "outputs": [
    {
     "name": "stdout",
     "output_type": "stream",
     "text": [
      "RMSE: 0.9596\n",
      "MAE:  0.7540\n"
     ]
    }
   ],
   "source": [
    "# n_epochs= 5, lr_all= 0.005, reg_all= 0.8\n",
    "svd_accu(svd_predictions)"
   ]
  },
  {
   "cell_type": "code",
   "execution_count": 179,
   "metadata": {},
   "outputs": [
    {
     "name": "stdout",
     "output_type": "stream",
     "text": [
      "RMSE: 0.8891\n",
      "MAE:  0.6840\n"
     ]
    }
   ],
   "source": [
    "# n_epochs': 30, 'lr_all': 0.005, 'reg_all': 0.1\n",
    "svd_accu(svd_predictions)"
   ]
  },
  {
   "cell_type": "code",
   "execution_count": 183,
   "metadata": {},
   "outputs": [
    {
     "name": "stdout",
     "output_type": "stream",
     "text": [
      "RMSE: 0.9352\n",
      "MAE:  0.7299\n"
     ]
    }
   ],
   "source": [
    "# n_epochs= 5, lr_all= 0.005, reg_all= 0.65\n",
    "svd_accu(svd_predictions)"
   ]
  },
  {
   "cell_type": "markdown",
   "metadata": {},
   "source": [
    "**Singular Value Decomposition**\n",
    "\n",
    "| Repetições SGD | Learning Rate | Regularização | RMSE | MAE |\n",
    "| :--------------------------------: | :------------------: | :-------------------------: | :------------------------: | :------------------: |\n",
    "| 1    |   0.005   |   0.8 |   0.9757  |    0.7705      |\n",
    "| 1    |   0.005   |   0.65 |   0.9681  |    0.7645      |\n",
    "| 5    |   0.005   |   0.8 |   0.9596  |   0.7540      |\n",
    "| 5    |   0.005   |   0.65 |   0.9352  |    0.7299      |\n",
    "| 20   |  0.005    |  0.02  |   0.9049  |    0.6971     |\n",
    "| 30   |  0.005    |  0.02  |   0.8891  |    0.6840     |"
   ]
  },
  {
   "cell_type": "code",
   "execution_count": null,
   "metadata": {
    "collapsed": true
   },
   "outputs": [],
   "source": []
  }
 ],
 "metadata": {
  "kernelspec": {
   "display_name": "Python 3",
   "language": "python",
   "name": "python3"
  },
  "language_info": {
   "codemirror_mode": {
    "name": "ipython",
    "version": 3
   },
   "file_extension": ".py",
   "mimetype": "text/x-python",
   "name": "python",
   "nbconvert_exporter": "python",
   "pygments_lexer": "ipython3",
   "version": "3.6.1"
  }
 },
 "nbformat": 4,
 "nbformat_minor": 2
}
